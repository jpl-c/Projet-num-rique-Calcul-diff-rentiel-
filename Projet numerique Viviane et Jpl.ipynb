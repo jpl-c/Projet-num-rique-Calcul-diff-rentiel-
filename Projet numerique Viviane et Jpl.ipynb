{
 "cells": [
  {
   "cell_type": "markdown",
   "metadata": {},
   "source": [
    " ## **Nouveau notebook**\n",
    " "
   ]
  },
  {
   "cell_type": "code",
<<<<<<< HEAD
   "execution_count": 1,
   "metadata": {},
   "outputs": [],
   "source": [
    "import autograd\n",
    "import autograd.numpy as np\n",
    "\n",
    "# Pandas\n",
    "import pandas as pd\n",
    "\n",
    "# Matplotlib\n",
    "import matplotlib as mpl\n",
    "import matplotlib.pyplot as plt\n",
    "plt.rcParams['figure.figsize'] = [10, 10] # [width, height] (inches). \n",
    "\n",
    "# Jupyter & IPython\n",
    "from IPython.display import display\n"
   ]
  },
  {
   "cell_type": "code",
   "execution_count": 2,
   "metadata": {},
   "outputs": [],
   "source": [
    "def grad(f):\n",
    "    g = autograd.grad\n",
    "    def grad_f(x, y):\n",
    "        return np.array([g(f, 0)(x, y), g(f, 1)(x, y)])\n",
    "    return grad_f"
   ]
  },
  {
   "cell_type": "code",
   "execution_count": 15,
   "metadata": {},
   "outputs": [
    {
     "ename": "SyntaxError",
     "evalue": "invalid syntax (<ipython-input-15-d070d060b312>, line 8)",
     "output_type": "error",
     "traceback": [
      "\u001b[1;36m  File \u001b[1;32m\"<ipython-input-15-d070d060b312>\"\u001b[1;36m, line \u001b[1;32m8\u001b[0m\n\u001b[1;33m    return np.array([2*x+y, 3y])\u001b[0m\n\u001b[1;37m                             ^\u001b[0m\n\u001b[1;31mSyntaxError\u001b[0m\u001b[1;31m:\u001b[0m invalid syntax\n"
     ]
    }
   ],
   "source": [
    "def J(f):\n",
    "    j = autograd.jacobian\n",
    "    def J_f(x, y):\n",
    "        return np.array([j(f, 0)(x, y), j(f, 1)(x, y)]).T\n",
    "    return J_f\n",
    "\n",
    "def f(x,y):\n",
    "    return np.array([2*x+y, 3y])\n",
    "print(grad(f))\n",
    "print (J(f))\n",
    "J(f)"
   ]
  },
  {
   "cell_type": "code",
   "execution_count": 5,
   "metadata": {},
   "outputs": [
    {
     "name": "stderr",
     "output_type": "stream",
     "text": [
      "<>:4: SyntaxWarning: 'int' object is not callable; perhaps you missed a comma?\n",
      "<>:4: SyntaxWarning: 'int' object is not callable; perhaps you missed a comma?\n",
      "<ipython-input-5-0e344d5a2973>:4: SyntaxWarning: 'int' object is not callable; perhaps you missed a comma?\n",
      "  (x,y) = (x0, y0) - J(f)**(-1)(F(x0,y0))\n"
     ]
    }
   ],
   "source": [
    "def Newton(F, x0, y0, eps=0.01, N=100):\n",
    "\n",
    "    for i in range(N):\n",
    "        (x,y) = (x0, y0) - J(f)**(-1)(F(x0,y0))\n",
    "        if np.sqrt((x - x0)**2 + (y - y0)**2) <= eps:\n",
    "            return x, y\n",
    "        x0, y0 = x, y\n",
    "    else:\n",
    "        raise ValueError(f\"no convergence in {N} steps.\")"
   ]
  },
  {
   "cell_type": "markdown",
   "metadata": {},
   "source": [
    "$$ \\alpha \n"
   ]
  },
  {
   "cell_type": "code",
=======
>>>>>>> 0d44c7e7b8ec2b944a4aed2732f595e2117363f9
   "execution_count": null,
   "metadata": {},
   "outputs": [],
   "source": []
  }
 ],
 "metadata": {
  "kernelspec": {
   "display_name": "Python 3",
   "language": "python",
   "name": "python3"
  },
  "language_info": {
   "codemirror_mode": {
    "name": "ipython",
    "version": 3
   },
   "file_extension": ".py",
   "mimetype": "text/x-python",
   "name": "python",
   "nbconvert_exporter": "python",
   "pygments_lexer": "ipython3",
   "version": "3.8.3"
  }
 },
 "nbformat": 4,
 "nbformat_minor": 4
}
<<<<<<< HEAD
=======
# Courbes de niveau
*Jean Pierre Louis COMMUNAL et Viviane Lesbre*


**Question 1:**


Soit c $\in \mathbb{R}$, 
on appelle C={$(x_1,x_2) \in \mathbb{R}, f(x_1,x_2)=c$}.

 Soit $A \in \mathbb{R}$, comme $\underset{||(x_1,x_2)||\to+\infty}{lim f(x_1,x_2)}=+\infty$, on a 
$$\exists (x_{10},x_{20}) \in \mathbb{R}^2, ||x_1,x_2||\geq ||x_{10},x_{20}|| \Rightarrow f(x_1,x_2) \geq A $$
$$\omega=  \{ (x_1,x_2) \in \mathbb{R}^2, ||(x_1,x_2)||\leq||x_{10},x_{20}||\}$$ 
f continue sur $\omega$ qui est donc un fermé. La fonction f est donc continue sur un fermé, elle y est donc bornée et atteint ses bornes, 
$$ B = \underset{(x_1,x_2) \in \omega }{min (f(x_1,x_2))}$$
Hors de ce domaine on a par définition
$$ \forall (x_1,x_2) \notin \omega, \ |f(x_1,x_2)| > A$$
Donc en posant $a=min(A,B)$ on a $\forall (x_1,x_2) \in \mathbb{R}^2, |f(x_1,x_2)| \geq a$ 

On a donc trouvé un minimum pour la fonction f.
On fait alors une dissociation de cas en fonction de la valeur de c:

* $c < a$ : il n'y a aucune solution possible
* $c \geq a$ : il y a au moins une solution, dans ce cas de plus comme f est continue que  C est un ensemble fermé.


**Question 2 :** 

On remarque que en projettant 
$$ X_0 =\begin{pmatrix}
    x_1 - x_{10} \\
    x_2 - x_{20} \\
  \end{pmatrix} $$
  sur un vecteur orthogonal au gradient de f en $X_0$ de norme 1

$$ \frac{1}{||\nabla f(x_0)||}    
 \begin{pmatrix}
  \partial _2f(x_1,x_2) \\
  -\partial _1f(x_1,x_2) \\
 \end{pmatrix}
$$
 avec l'hypothèse que $||\nabla f(x_0)||$ $\ne$ 0, on obtient $p(x_1,x_2)$.  Donc $p(x_1,x_2)$ correspond à la distance de $X_0$ à la droite portée par le gradient.



 **Question 3:**

On cherche à appliquer le théorème des fonctions implicites. 
On pose comme fonction 
$$F(x,t)= \begin{pmatrix}
  f(x)-c \\
  p(x)-t \\
 \end{pmatrix}

```python

```
>>>>>>> 0d44c7e7b8ec2b944a4aed2732f595e2117363f9
