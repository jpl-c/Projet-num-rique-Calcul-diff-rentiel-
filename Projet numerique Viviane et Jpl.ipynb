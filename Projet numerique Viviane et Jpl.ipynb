{
 "cells": [
  {
   "cell_type": "markdown",
   "metadata": {},
   "source": [
    " ## **Nouveau notebook**\n",
    " "
   ]
  },
  {
   "cell_type": "code",
   "execution_count": null,
   "metadata": {},
   "outputs": [],
   "source": []
  }
 ],
 "metadata": {
  "kernelspec": {
   "display_name": "Python 3",
   "language": "python",
   "name": "python3"
  },
  "language_info": {
   "codemirror_mode": {
    "name": "ipython",
    "version": 3
   },
   "file_extension": ".py",
   "mimetype": "text/x-python",
   "name": "python",
   "nbconvert_exporter": "python",
   "pygments_lexer": "ipython3",
   "version": "3.8.3"
  }
 },
 "nbformat": 4,
 "nbformat_minor": 4
}
# Courbes de niveau
*Jean Pierre Louis COMMUNAL et Viviane Lesbre*


**Question 1:**


Soit c $\in \mathbb{R}$, 
on appelle C={$(x_1,x_2) \in \mathbb{R}, f(x_1,x_2)=c$}.

 Soit $A \in \mathbb{R}$, comme $\underset{||(x_1,x_2)||\to+\infty}{lim f(x_1,x_2)}=+\infty$, on a 
$$\exists (x_{10},x_{20}) \in \mathbb{R}^2, ||x_1,x_2||\geq ||x_{10},x_{20}|| \Rightarrow f(x_1,x_2) \geq A $$
$$\omega=  \{ (x_1,x_2) \in \mathbb{R}^2, ||(x_1,x_2)||\leq||x_{10},x_{20}||\}$$ 
f continue sur $\omega$ qui est donc un fermé. La fonction f est donc continue sur un fermé, elle y est donc bornée et atteint ses bornes, 
$$ B = \underset{(x_1,x_2) \in \omega }{min (f(x_1,x_2))}$$
Hors de ce domaine on a par définition
$$ \forall (x_1,x_2) \notin \omega, \ |f(x_1,x_2)| > A$$
Donc en posant $a=min(A,B)$ on a $\forall (x_1,x_2) \in \mathbb{R}^2, |f(x_1,x_2)| \geq a$ 

On a donc trouvé un minimum pour la fonction f.
On fait alors une dissociation de cas en fonction de la valeur de c:

* $c < a$ : il n'y a aucune solution possible
* $c \geq a$ : il y a au moins une solution, dans ce cas de plus comme f est continue que  C est un ensemble fermé.


**Question 2 :** 

On remarque que en projettant 
$$ X_0 =\begin{pmatrix}
    x_1 - x_{10} \\
    x_2 - x_{20} \\
  \end{pmatrix} $$
  sur un vecteur orthogonal au gradient de f en $X_0$ de norme 1

$$ \frac{1}{||\nabla f(x_0)||}    
 \begin{pmatrix}
  \partial _2f(x_1,x_2) \\
  -\partial _1f(x_1,x_2) \\
 \end{pmatrix}
$$
 avec l'hypothèse que $||\nabla f(x_0)||$ $\ne$ 0, on obtient $p(x_1,x_2)$.  Donc $p(x_1,x_2)$ correspond à la distance de $X_0$ à la droite portée par le gradient.



 **Question 3:**

On cherche à appliquer le théorème des fonctions implicites. 
On pose comme fonction 
$$F(x,t)= \begin{pmatrix}
  f(x)-c \\
  p(x)-t \\
 \end{pmatrix}

```python

```
