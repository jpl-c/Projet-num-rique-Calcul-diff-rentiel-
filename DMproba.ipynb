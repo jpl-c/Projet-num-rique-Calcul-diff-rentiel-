{
 "cells": [
  {
   "cell_type": "markdown",
   "metadata": {},
   "source": [
    "# DM probabilités\n",
    "**COMMUNAL Jean-Pierre Louis, LESBRE Viviane**\n",
    "\n",
    "On fait les imports nécessaires et on copie le code de l'année dernière :"
   ]
  },
  {
   "cell_type": "code",
   "execution_count": 1,
   "metadata": {},
   "outputs": [],
   "source": [
    "import numpy as np\n",
    "import matplotlib.pyplot as plt\n",
    "\n",
    "#Discrétisation\n",
    "A=0\n",
    "B=500\n",
    "N=101 #Nombre de points de discrétisation\n",
    "Delta = (B-A)/(N-1)\n",
    "discretization_indexes = np.arange(N)\n",
    "discretization = discretization_indexes*Delta\n",
    "#Paramètres du modèle\n",
    "\n",
    "mu=-5\n",
    "a = 50\n",
    "sigma2 = 12\n",
    "\n",
    "#Données\n",
    "observation_indexes = [0,20,40,60,80,100]\n",
    "depth = np.array([0,-4,-12.8,-1,-6.5,0])\n",
    "\n",
    "#Indices des composantes correspondant aux observations et aux componsantes non observées\n",
    "\n",
    "unknown_indexes=list(set(discretization_indexes)-set(observation_indexes))\n",
    "\n",
    "#Fonction C\n",
    "\n",
    "def Covexp(dist,rangeval,sigmaval):\n",
    "    return sigmaval * np.exp(-dist/rangeval)\n",
    "\n",
    "distmat=abs(np.subtract.outer(discretization,discretization))\n",
    "\n",
    "Sigma=Covexp(distmat,a,sigma2)\n",
    "\n",
    "SigmaObs = Sigma[observation_indexes,:][:,observation_indexes]\n",
    "SigmaObsUnknown = Sigma[observation_indexes,:][:,unknown_indexes]\n",
    "SigmaUnknown = Sigma[unknown_indexes,:][:,unknown_indexes]\n",
    "\n",
    "invSigma = np.linalg.inv(SigmaObs) \n",
    "Ec= mu+np.matmul(np.transpose(SigmaObsUnknown),np.matmul(np.linalg.inv(SigmaObs),depth-mu))\n",
    "allval1 = np.zeros(N)\n",
    "allval1[unknown_indexes]=Ec\n",
    "allval1[observation_indexes]=depth\n",
    "\n",
    "\n",
    "SigmaCond = SigmaUnknown - np.matmul(np.transpose(SigmaObsUnknown),np.matmul(np.linalg.inv(SigmaObs),SigmaObsUnknown))\n",
    "allval2 = np.zeros(N)\n",
    "allval2[unknown_indexes]=np.diag(SigmaCond)\n",
    "\n",
    "\n",
    "Cholesky = np.linalg.cholesky(SigmaCond)\n",
    "x = np.random.normal(0,1,np.shape(unknown_indexes)[0])\n",
    "simu = Ec + np.matmul(Cholesky,x)\n",
    "allval3 = np.zeros(N)\n",
    "allval3[unknown_indexes]=simu\n",
    "allval3[observation_indexes]=depth\n",
    "\n",
    "\n",
    "def length(z,delta):\n",
    "    return sum(np.sqrt(Delta**2+(z[1:N]-z[0:-1])**2))\n",
    "\n",
    "K=100000\n",
    "result = np.zeros(K)\n",
    "for i in range(K):\n",
    "    x=np.random.normal(0,1,np.shape(unknown_indexes)[0])\n",
    "    allval3[unknown_indexes] = Ec + np.matmul(Cholesky,x)\n",
    "    result[i]=length(allval3, Delta)\n",
    "\n",
    "longeur_moy = sum(result)/K\n",
    "length(allval1,Delta)\n",
    "\n",
    "indice_simu = 1+np.arange(K)\n",
    "\n",
    "Ln = sum(result)/K\n",
    "sigman = np.std(result)\n",
    "[Ln - sigman*1.96,Ln + sigman*1.96]\n",
    "\n",
    "quantile = np.quantile(result,[0.025,0.975])\n",
    "\n",
    "myenne_525 = np.mean(result>525)"
   ]
  },
  {
   "cell_type": "markdown",
   "metadata": {},
   "source": [
    "# Question 1 :\n",
    "On code un algorithme de rejet"
   ]
  },
  {
   "cell_type": "code",
   "execution_count": 15,
   "metadata": {},
   "outputs": [
    {
     "data": {
      "image/png": "[encoded data removed]",
      "text/plain": [
       "<Figure size 432x288 with 1 Axes>"
      ]
     },
     "metadata": {
      "needs_background": "light"
     },
     "output_type": "display_data"
    }
   ],
   "source": [
    "Ec1= mu+np.matmul(np.transpose(SigmaObsUnknown),np.matmul(np.linalg.inv(SigmaObs),depth-mu))\n",
    "\n",
    "def rejet(Ec):\n",
    "    positif = True\n",
    "    Cholesky = np.linalg.cholesky(SigmaCond)\n",
    "    x = np.random.normal(0,1,np.shape(unknown_indexes)[0])\n",
    "    simu = Ec1 + np.matmul(Cholesky,x)\n",
    "    \n",
    "    while positif :\n",
    "        simu_neg = np.array(simu<0)\n",
    "        if  simu_neg.all():\n",
    "            positif = False\n",
    "        else :\n",
    "            x = np.random.normal(0,1,np.shape(unknown_indexes)[0])\n",
    "            simu = Ec1 + np.matmul(Cholesky,x)\n",
    "            \n",
    "    allval5 = np.zeros(N)\n",
    "    allval5[unknown_indexes]=simu\n",
    "    allval5[observation_indexes]=depth\n",
    "        \n",
    "    return allval5\n",
    "\n",
    "allval5 = rejet(Ec1)\n",
    "plt.plot(discretization,allval5)\n",
    "plt.plot(discretization,allval1)\n",
    "plt.plot(discretization[observation_indexes], depth, 'ro')\n",
    "plt.title(\"profil de profondeur\");"
   ]
  },
  {
   "cell_type": "markdown",
   "metadata": {},
   "source": [
    "On a ainsi un profil de profondeur qui ne présente que des valeurs négatives ce qui est cohérent d'un point de vue physique.\n",
    "\n",
    "# Question 2:\n",
    "On cherche à calculer la longeur moyenne de cable pour ce nouveau profil. Dans la première partie du problème on obtemait une longueur moyenne de 522,4m:"
   ]
  },
  {
   "cell_type": "code",
   "execution_count": 17,
   "metadata": {},
   "outputs": [
    {
     "name": "stdout",
     "output_type": "stream",
     "text": [
      "522.4401440940658\n"
     ]
    }
   ],
   "source": [
    "print(longeur_moy)"
   ]
  },
  {
   "cell_type": "code",
   "execution_count": 19,
   "metadata": {},
   "outputs": [
    {
     "data": {
      "text/plain": [
       "522.4401440940597"
      ]
     },
     "execution_count": 19,
     "metadata": {},
     "output_type": "execute_result"
    }
   ],
   "source": [
    "K=10000\n",
    "result_new = np.zeros(K)\n",
    "for i in range(K):\n",
    "    allval5 = rejet(Ec1)#à chaque itération on choisi un tracé avec la méthode du rejet\n",
    "    result_new[i]=length(allval5,Delta)\n",
    "\n",
    "result_new.mean()\n",
    "result.mean()"
   ]
  },
  {
   "cell_type": "markdown",
   "metadata": {},
   "source": [
    "La nouvelle moyenne après application de l'algorithme du rejet est aussi de 522,4. La variation n'est pas très importante.\n",
    "\n",
    "On trace l'histogramme des longeurs de câbles:"
   ]
  },
  {
   "cell_type": "code",
   "execution_count": 21,
   "metadata": {},
   "outputs": [
    {
     "data": {
      "image/png": "[encoded data removed]",
      "text/plain": [
       "<Figure size 432x288 with 1 Axes>"
      ]
     },
     "metadata": {
      "needs_background": "light"
     },
     "output_type": "display_data"
    }
   ],
   "source": [
    "plt.subplots()\n",
    "axe1 = plt.hist(result_new,50,density=True, label ='nouvelles valeurs')\n",
    "axe2 = plt.hist(result,50,density = True, label = 'anciennes valeurs')\n",
    "plt.legend()\n",
    "plt.show()"
   ]
  },
  {
   "cell_type": "markdown",
   "metadata": {},
   "source": [
    "On remarque une différence entre les deux histogrammes, les nouvelles valeurs sont en moyenne legèrement plus faibles et moins étalées que les anciennes. On retrouve bien aussi les valeurs moyennes de l'ordre de 522m.\n",
    "On calcule l'intervalle de confiance par la méthodes des quantiles :"
   ]
  },
  {
   "cell_type": "code",
   "execution_count": 23,
   "metadata": {},
   "outputs": [
    {
     "name": "stdout",
     "output_type": "stream",
     "text": [
      "[517.11046871 528.42550149]\n",
      "[516.70783719 527.49947833]\n"
     ]
    }
   ],
   "source": [
    "#Vieilles données\n",
    "Ln = sum(result)/K\n",
    "sigman = np.std(result)\n",
    "[Ln - sigman*1.96,Ln + sigman*1.96]\n",
    "\n",
    "print(np.quantile(result,[0.025,0.975]))\n",
    "\n",
    "#Nouvelles données\n",
    "Ln = sum(result_new)/K\n",
    "sigman = np.std(result_new)\n",
    "[Ln - sigman*1.96,Ln + sigman*1.96]\n",
    "\n",
    "print(np.quantile(result_new,[0.025,0.975]))"
   ]
  },
  {
   "cell_type": "markdown",
   "metadata": {},
   "source": [
    "On remarque donc ici aussi, comme sur les histogrammes, que les nouvelles valeurs sont moins étalées autour de la moyenne que les anciennes.\n",
    "Finalement on s'interesse à la probabilité de dépassement d'un seuil de 525m:"
   ]
  },
  {
   "cell_type": "code",
   "execution_count": 25,
   "metadata": {},
   "outputs": [
    {
     "name": "stdout",
     "output_type": "stream",
     "text": [
      "Probabilité que la longueur moyenne soit >525 avec les anciennes valeurs est de : 0.1845\n",
      "Probabilité que la longueur moyenne soit >525 avec les anciennes valeurs est de : 0.1268\n"
     ]
    }
   ],
   "source": [
    "print(\"Probabilité que la longueur moyenne soit >525 avec les anciennes valeurs :\",np.mean(result>525))\n",
    "print(\"Probabilité que la longueur moyenne soit >525 avec les nouvelles valeurs :\",np.mean(result_new>525))"
   ]
  },
  {
   "cell_type": "markdown",
   "metadata": {},
   "source": [
    "La probabilité de dépassser une longeur totale de 525 est donc plus faible avec les nouvelles valeurs. \n",
    "\n",
    "On calcule le taux de rejet sur 10000 essais."
   ]
  },
  {
   "cell_type": "code",
   "execution_count": 27,
   "metadata": {},
   "outputs": [
    {
     "data": {
      "text/plain": [
       "0.8678795399984319"
      ]
     },
     "execution_count": 27,
     "metadata": {},
     "output_type": "execute_result"
    }
   ],
   "source": [
    "def taux_rejet():\n",
    "    \n",
    "    rejet = 1\n",
    "    positif = True\n",
    "    Cholesky = np.linalg.cholesky(SigmaCond)\n",
    "    x = np.random.normal(0,1,np.shape(unknown_indexes)[0])\n",
    "    simu = Ec + np.matmul(Cholesky,x)\n",
    "    \n",
    "    while positif :\n",
    "        simu_neg = np.array(simu<0)\n",
    "        if  simu_neg.all():\n",
    "            positif = False\n",
    "        else :\n",
    "            x = np.random.normal(0,1,np.shape(unknown_indexes)[0])\n",
    "            simu = Ec + np.matmul(Cholesky,x)\n",
    "            rejet +=1\n",
    "    return 1/rejet\n",
    "\n",
    "rejet = 0\n",
    "for k in range (10000):\n",
    "    rejet += taux_rejet()\n",
    "1-rejet/10000"
   ]
  },
  {
   "cell_type": "markdown",
   "metadata": {},
   "source": [
    "Le taux de rejet est donc d'environ 87%. L'algorithme doit produire de nombreux essais de simulations avant d'en obtenir une avec aucune valeurs positives."
   ]
  },
  {
   "cell_type": "markdown",
   "metadata": {},
   "source": [
    "# Question 3 :"
   ]
  },
  {
   "cell_type": "markdown",
   "metadata": {},
   "source": [
    "On a :\n",
    "$$\n",
    "\\begin{align}\n",
    "f_{z_{OBS},\\mu}(z_{OBS},\\hat \\mu) &= f_{z_{OBS}|\\mu = \\hat \\mu}(z_{OBS})f_{\\mu}(\\hat \\mu) \\\\\n",
    "f_{z_{OBS},\\mu}(z_{OBS},\\hat \\mu) &= f_{\\mu|z_{OBS}} \\\\\n",
    "&= z_{OBS}(\\hat \\mu)*f_{z_{OBS}}(z_{OBS})\n",
    "\\end{align}\n",
    "$$\n",
    "Or on a comme hyposthèse :\n",
    "$$\n",
    "z_{OBS}|\\mu = \\hat \\mu  \\sim \\mathcal{N}(\\hat \\mu,C_{OBS}) \\\\\n",
    "\\text{ et } \\mu \\sim \\mathcal{N} (-5,4)\n",
    "$$\n",
    "Comme une loi normale admet comme densité la fonction $f(x) = \\frac{1}{\\sigma \\sqrt{2\\pi}}e^{-\\frac{1}{2}*(\\frac{x-\\mu}{\\sigma})²}$ on peut écrire en passant au logarithme :\n",
    "$$\n",
    "-2ln(f_{z_{OBS},\\mu}(z_{OBS},\\hat \\mu)) = (z_{OBS}-1 \\hat \\mu)^t* C_{OBS}^{-1} *(z_{OBS}-1 \\hat \\mu) + ( \\frac{5+ \\hat \\mu}{2})²+ ln(8\\pi) + ln((2\\pi)^6 *det(C_{OBS}))\n",
    "$$"
   ]
  },
  {
   "cell_type": "markdown",
   "metadata": {},
   "source": [
    "En prenant les termes en $\\hat \\mu$:\n",
    "$$\n",
    "\\hat \\mu ²*(1^t C_{OBS}^{-1} *1 + \\frac{1}{4}) -2\\hat \\mu (1^t* C_{OBS}^{-1} * z_{OBS}-\\frac{5}{4})\n",
    "$$\n",
    "On en déduit que \n",
    "$\\mu|Z_{OBS}=z_{OBS} \\sim \\mathcal{N}(\\hat \\mu,\\hat \\sigma ²)$ avec $\\hat \\sigma²= (1^t* C_{OBS}^{-1} * z_{OBS}-\\frac{5}{4})^{-1}$\n",
    "avec $1$ défini comme dans l'ennoncé et $\\hat \\mu = \\hat \\sigma ²*(1^t* C_{OBS}^{-1} * z_{OBS}-\\frac{5}{4})$"
   ]
  },
  {
   "cell_type": "markdown",
   "metadata": {},
   "source": [
    "# Question 4 :\n",
    "\n",
    "On a avec X,Y et Z trois vecteurs aléatoires à densité :\n",
    "$$ \n",
    "\\begin{align}\n",
    "f_{(X,Y)|Z=z}(x,y) &= f_{X|Z=z,Y|Z=z}(x,y) \\\\\n",
    "&= \\frac{f_{X,Y,Z}(x,y,z)}{f_Z(z)}\\\\\n",
    "&= \\frac{f_{X,Y,Z}(x,y,z)}{f_{Y,Z}(y,z)} * \\frac{f_{Y,Z}(y,z)}{f_Z(z)} \\\\\n",
    "f_{(X,Y)|Z=z}(x,y)&= f_{X|Y=y,Z=z}(x)*f_{Y|Z=z}(y)\n",
    "\\end{align}\n",
    "$$"
   ]
  },
  {
   "cell_type": "markdown",
   "metadata": {},
   "source": [
    "# Question 5:\n",
    "\n",
    "Avec l'aide de la question 4 on trouve :\n",
    "$f_{(Z_{UKN},\\mu)|Z_{obs}=z_{obs}} = f_{\\mu|Z_{obs}=z_{obs}}* f_{Z_{UKN}|\\mu = \\mu*, Z_{obs}=z_{obs}}$\n",
    "en posant :\n",
    "$$\n",
    "\\left\\{ \\begin{array}{ll}\n",
    "        X := Z_{UKN} \\\\\n",
    "        Y := \\mu \\\\\n",
    "        Z := Z_{obs} \\\\\n",
    "    \\end{array}\n",
    "    \\right.\n",
    "  $$\n"
   ]
  },
  {
   "cell_type": "markdown",
   "metadata": {},
   "source": [
    "Or on sait que $\\mu|Z_{obs}=z_{obs} \\sim N(\\hat \\mu, \\hat \\sigma²)$, donc on a la formule de la fonction de densité d'une gausienne:\n",
    "$$\n",
    "f_{\\mu|Z_{obs}=z_{obs}}(t) = \\frac{1}{\\sqrt{2 \\pi}* \\hat \\sigma²}*exp(- \\frac{(t-\\hat \\mu)²}{2 \\hat \\sigma²})\n",
    "$$\n",
    "\n",
    "Pour la deuxième fonction de partition on reconnaît grâce à la partie 1 un vecteur gaussien à densité, de matrice de covariances C dont on peut exprimer la fonction de répartition:\n",
    "$$\n",
    "f_{Z_{UKN}|\\mu = \\mu*, Z_{obs}=z_{obs}} = \\frac{1}{(2\\pi)^{n/2} \\sqrt{det(C)}}*exp(-\\frac{1}{2}(x-\\mu^*)C^{-1}(x-\\mu^*))\n",
    "$$\n",
    "\n",
    "La matrice de covariance est bien la même matrice que celle de la partie 1 $C=Sigma$ car dans cette partie on avait fait l'hypothèse que $\\mu = \\mu^*$"
   ]
  },
  {
   "cell_type": "markdown",
   "metadata": {},
   "source": [
    "# Question 6:\n",
    "\n"
   ]
  },
  {
   "cell_type": "code",
   "execution_count": 28,
   "metadata": {},
   "outputs": [
    {
     "data": {
      "text/plain": [
       "(-4.291350330933772, 1.5368909974762894)"
      ]
     },
     "execution_count": 28,
     "metadata": {},
     "output_type": "execute_result"
    }
   ],
   "source": [
    "ones = np.ones(6)\n",
    "#on calcule avec les formules trouvées avant\n",
    "var = 1/( np.vdot(ones,np.matmul(np.linalg.inv(SigmaObs),np.transpose(ones))) + 1/4 )\n",
    "\n",
    "mu_moy = var * (np.vdot(ones, np.matmul(np.linalg.inv(SigmaObs), depth)) - 5/4)\n",
    "\n",
    "mu_moy, var"
   ]
  },
  {
   "cell_type": "markdown",
   "metadata": {},
   "source": [
    "On a $\\hat \\mu = -4.29$ et $\\hat \\sigma ^{2} = 1.54$"
   ]
  },
  {
   "cell_type": "markdown",
   "metadata": {},
   "source": [
    "# Question 7:\n",
    "On applique la technique de Box-Muller pour simuler une variable aléatoire gaussienne."
   ]
  },
  {
   "cell_type": "code",
   "execution_count": 29,
   "metadata": {},
   "outputs": [
    {
     "data": {
      "image/png": "[encoded data removed]",
      "text/plain": [
       "<Figure size 432x288 with 1 Axes>"
      ]
     },
     "metadata": {
      "needs_background": "light"
     },
     "output_type": "display_data"
    }
   ],
   "source": [
    "n = 100000 #nombre de points\n",
    "mu_hat = -4.29\n",
    "sigma_hat = 1.54\n",
    "\n",
    "def simu2(n):\n",
    "    W = np.empty(n)\n",
    "    i = 0\n",
    "    while i < n:\n",
    "        U = np.random.rand(1)\n",
    "        V = np.random.rand(1)\n",
    "        X = mu_hat + np.sqrt(-2*np.log(U))*np.cos(2*np.pi*V)*sigma_hat\n",
    "        if X < 0:\n",
    "            W[i] = X\n",
    "            i += 1\n",
    "    return W\n",
    "    \n",
    "\n",
    "plt.hist(simu2(n),50, density = True)\n",
    "plt.show()"
   ]
  },
  {
   "cell_type": "markdown",
   "metadata": {},
   "source": [
    "# Question 8:\n",
    "\n",
    "On génère un couple de $Z_{UNK},\\mu|Z_{obs} \\text { avec } \\mu<0$ grâce aux deux programmes qu'on a écrit plus haut : *simu2* pour générer $\\mu$ selon sa loi, puis *rejet* pour simuler $Z_{UKN}$ en prenant en compte la modification de $\\mu$."
   ]
  },
  {
   "cell_type": "code",
   "execution_count": 30,
   "metadata": {},
   "outputs": [
    {
     "ename": "TypeError",
     "evalue": "'float' object is not callable",
     "output_type": "error",
     "traceback": [
      "\u001b[1;31m---------------------------------------------------------------------------\u001b[0m",
      "\u001b[1;31mTypeError\u001b[0m                                 Traceback (most recent call last)",
      "\u001b[1;32m<ipython-input-30-612c90ade706>\u001b[0m in \u001b[0;36m<module>\u001b[1;34m\u001b[0m\n\u001b[0;32m      5\u001b[0m     \u001b[1;32mreturn\u001b[0m  \u001b[0msimu\u001b[0m\u001b[1;33m,\u001b[0m \u001b[0mmu\u001b[0m\u001b[1;33m\u001b[0m\u001b[1;33m\u001b[0m\u001b[0m\n\u001b[0;32m      6\u001b[0m \u001b[1;33m\u001b[0m\u001b[0m\n\u001b[1;32m----> 7\u001b[1;33m \u001b[0msimu\u001b[0m\u001b[1;33m,\u001b[0m \u001b[0mmu\u001b[0m \u001b[1;33m=\u001b[0m \u001b[0msimu_couple\u001b[0m\u001b[1;33m(\u001b[0m\u001b[1;33m)\u001b[0m\u001b[1;33m\u001b[0m\u001b[1;33m\u001b[0m\u001b[0m\n\u001b[0m\u001b[0;32m      8\u001b[0m \u001b[0mplt\u001b[0m\u001b[1;33m.\u001b[0m\u001b[0mplot\u001b[0m\u001b[1;33m(\u001b[0m\u001b[0mdiscretization\u001b[0m\u001b[1;33m,\u001b[0m\u001b[0msimu\u001b[0m\u001b[1;33m)\u001b[0m\u001b[1;33m\u001b[0m\u001b[1;33m\u001b[0m\u001b[0m\n\u001b[0;32m      9\u001b[0m \u001b[0mplt\u001b[0m\u001b[1;33m.\u001b[0m\u001b[0mplot\u001b[0m\u001b[1;33m(\u001b[0m\u001b[0mdiscretization\u001b[0m\u001b[1;33m,\u001b[0m\u001b[0mallval1\u001b[0m\u001b[1;33m)\u001b[0m\u001b[1;33m\u001b[0m\u001b[1;33m\u001b[0m\u001b[0m\n",
      "\u001b[1;32m<ipython-input-30-612c90ade706>\u001b[0m in \u001b[0;36msimu_couple\u001b[1;34m()\u001b[0m\n\u001b[0;32m      2\u001b[0m     \u001b[0mmu\u001b[0m \u001b[1;33m=\u001b[0m \u001b[0msimu2\u001b[0m\u001b[1;33m(\u001b[0m\u001b[1;36m1\u001b[0m\u001b[1;33m)\u001b[0m\u001b[1;33m\u001b[0m\u001b[1;33m\u001b[0m\u001b[0m\n\u001b[0;32m      3\u001b[0m     \u001b[0mEc2\u001b[0m \u001b[1;33m=\u001b[0m \u001b[0mmu\u001b[0m \u001b[1;33m+\u001b[0m \u001b[0mnp\u001b[0m\u001b[1;33m.\u001b[0m\u001b[0mmatmul\u001b[0m\u001b[1;33m(\u001b[0m\u001b[0mnp\u001b[0m\u001b[1;33m.\u001b[0m\u001b[0mtranspose\u001b[0m\u001b[1;33m(\u001b[0m\u001b[0mSigmaObsUnknown\u001b[0m\u001b[1;33m)\u001b[0m\u001b[1;33m,\u001b[0m\u001b[0mnp\u001b[0m\u001b[1;33m.\u001b[0m\u001b[0mmatmul\u001b[0m\u001b[1;33m(\u001b[0m\u001b[0mnp\u001b[0m\u001b[1;33m.\u001b[0m\u001b[0mlinalg\u001b[0m\u001b[1;33m.\u001b[0m\u001b[0minv\u001b[0m\u001b[1;33m(\u001b[0m\u001b[0mSigmaObs\u001b[0m\u001b[1;33m)\u001b[0m\u001b[1;33m,\u001b[0m\u001b[0mdepth\u001b[0m \u001b[1;33m-\u001b[0m \u001b[0mmu\u001b[0m\u001b[1;33m)\u001b[0m\u001b[1;33m)\u001b[0m\u001b[1;33m\u001b[0m\u001b[1;33m\u001b[0m\u001b[0m\n\u001b[1;32m----> 4\u001b[1;33m     \u001b[0msimu\u001b[0m \u001b[1;33m=\u001b[0m \u001b[0mrejet\u001b[0m\u001b[1;33m(\u001b[0m\u001b[0mEc2\u001b[0m\u001b[1;33m)\u001b[0m\u001b[1;33m\u001b[0m\u001b[1;33m\u001b[0m\u001b[0m\n\u001b[0m\u001b[0;32m      5\u001b[0m     \u001b[1;32mreturn\u001b[0m  \u001b[0msimu\u001b[0m\u001b[1;33m,\u001b[0m \u001b[0mmu\u001b[0m\u001b[1;33m\u001b[0m\u001b[1;33m\u001b[0m\u001b[0m\n\u001b[0;32m      6\u001b[0m \u001b[1;33m\u001b[0m\u001b[0m\n",
      "\u001b[1;31mTypeError\u001b[0m: 'float' object is not callable"
     ]
    }
   ],
   "source": [
    "def simu_couple():\n",
    "    mu = simu2(1)\n",
    "    Ec2 = mu + np.matmul(np.transpose(SigmaObsUnknown),np.matmul(np.linalg.inv(SigmaObs),depth - mu))\n",
    "    simu = rejet(Ec2)\n",
    "    return  simu, mu\n",
    "\n",
    "simu, mu = simu_couple()\n",
    "plt.plot(discretization,simu)\n",
    "plt.plot(discretization,allval1)\n",
    "plt.plot(discretization[observation_indexes], depth, 'ro')\n",
    "plt.title(\"profil de profondeur\");\n"
   ]
  },
  {
   "cell_type": "markdown",
   "metadata": {},
   "source": [
    "# Question 9:\n"
   ]
  },
  {
   "cell_type": "code",
   "execution_count": null,
   "metadata": {},
   "outputs": [],
   "source": [
    "K=10000\n",
    "result_new2 = np.zeros(K)\n",
    "for i in range(K):\n",
    "    allval5 = rejet(Ec1)\n",
    "    result_new2[i]=length(allval5,Delta)\n",
    "\n",
    "result_new2.mean()"
   ]
  },
  {
   "cell_type": "markdown",
   "metadata": {},
   "source": [
    "Pour la convergence:"
   ]
  },
  {
   "cell_type": "code",
   "execution_count": null,
   "metadata": {},
   "outputs": [],
   "source": [
    "indice_simu = 1+np.arange(K)\n",
    "plt.plot(indice_simu,np.cumsum(result_new2)/indice_simu)\n",
    "plt.show()"
   ]
  },
  {
   "cell_type": "code",
   "execution_count": null,
   "metadata": {},
   "outputs": [],
   "source": [
    "plt.subplots()\n",
    "axe1 = plt.hist(result_new2,50,density=True, label ='valeurs négatives')\n",
    "axe2 = plt.hist(result,50,density = True, label = 'valeur originales')\n",
    "plt.legend()\n",
    "plt.show()"
   ]
  },
  {
   "cell_type": "code",
   "execution_count": null,
   "metadata": {},
   "outputs": [],
   "source": [
    "#Vieilles données\n",
    "Ln = sum(result)/K\n",
    "sigman = np.std(result)\n",
    "[Ln - sigman*1.96,Ln + sigman*1.96]\n",
    "\n",
    "print(np.quantile(result,[0.025,0.975]))\n",
    "\n",
    "#Nouvelles données\n",
    "Ln = sum(result_new2)/K\n",
    "sigman = np.std(result_new2)\n",
    "[Ln - sigman*1.96,Ln + sigman*1.96]\n",
    "\n",
    "print(np.quantile(result_new2,[0.025,0.975]))"
   ]
  },
  {
   "cell_type": "code",
   "execution_count": null,
   "metadata": {},
   "outputs": [],
   "source": [
    "print(np.mean(result>525))\n",
    "print(np.mean(result_new2>525))"
   ]
  },
  {
   "cell_type": "markdown",
   "metadata": {},
   "source": [
    "En simulant non seulement la profondeur mais aussi $\\mu$ on arrive à un profil très similaire à celui obtenu dans la partie 1. Cela se voit sur l'histogramme et se confirme par les intervalles quantiles et les moyennes. On arrive à simuler de manière très précise les variations de profondeurs. Ainsi simuler $\\mu$ n'apporte pas forcement beaucoup plus d'informations."
   ]
  },
  {
   "cell_type": "markdown",
   "metadata": {},
   "source": [
    "# Question 10 :\n",
    "Si on rendait tous les autres paramètres aléatoires, les variations augmenteraient beaucoup et la simulation pourrait perdre en précision."
   ]
  },
  {
   "cell_type": "code",
   "execution_count": null,
   "metadata": {},
   "outputs": [],
   "source": []
  }
 ],
 "metadata": {
  "kernelspec": {
   "display_name": "Python 3",
   "language": "python",
   "name": "python3"
  },
  "language_info": {
   "codemirror_mode": {
    "name": "ipython",
    "version": 3
   },
   "file_extension": ".py",
   "mimetype": "text/x-python",
   "name": "python",
   "nbconvert_exporter": "python",
   "pygments_lexer": "ipython3",
   "version": "3.8.3"
  }
 },
 "nbformat": 4,
 "nbformat_minor": 2
}
