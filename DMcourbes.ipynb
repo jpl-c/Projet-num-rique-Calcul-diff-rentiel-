{
 "cells": [
  {
   "cell_type": "markdown",
   "metadata": {},
   "source": [
    "# Courbes de niveau\n",
    "*Jean Pierre Louis COMMUNAL et Viviane Lesbre*\n"
   ]
  },
  {
   "cell_type": "markdown",
   "metadata": {},
   "source": [
    "On importe les modules nécessaires à l'exercice :"
   ]
  },
  {
   "cell_type": "code",
   "execution_count": 1,
   "metadata": {},
   "outputs": [
    {
     "ename": "ModuleNotFoundError",
     "evalue": "No module named 'autograd'",
     "output_type": "error",
     "traceback": [
      "\u001b[1;31m---------------------------------------------------------------------------\u001b[0m",
      "\u001b[1;31mModuleNotFoundError\u001b[0m                       Traceback (most recent call last)",
      "\u001b[1;32m<ipython-input-1-46b8a7354c99>\u001b[0m in \u001b[0;36m<module>\u001b[1;34m\u001b[0m\n\u001b[1;32m----> 1\u001b[1;33m \u001b[1;32mimport\u001b[0m \u001b[0mautograd\u001b[0m\u001b[1;33m\u001b[0m\u001b[1;33m\u001b[0m\u001b[0m\n\u001b[0m\u001b[0;32m      2\u001b[0m \u001b[1;32mimport\u001b[0m \u001b[0mautograd\u001b[0m\u001b[1;33m.\u001b[0m\u001b[0mnumpy\u001b[0m \u001b[1;32mas\u001b[0m \u001b[0mnp\u001b[0m\u001b[1;33m\u001b[0m\u001b[1;33m\u001b[0m\u001b[0m\n\u001b[0;32m      3\u001b[0m \u001b[1;32mimport\u001b[0m \u001b[0mmatplotlib\u001b[0m\u001b[1;33m.\u001b[0m\u001b[0mpyplot\u001b[0m \u001b[1;32mas\u001b[0m \u001b[0mplt\u001b[0m\u001b[1;33m\u001b[0m\u001b[1;33m\u001b[0m\u001b[0m\n\u001b[0;32m      4\u001b[0m \u001b[1;32mimport\u001b[0m \u001b[0mautograd\u001b[0m\u001b[1;33m\u001b[0m\u001b[1;33m\u001b[0m\u001b[0m\n",
      "\u001b[1;31mModuleNotFoundError\u001b[0m: No module named 'autograd'"
     ]
    }
   ],
   "source": [
    "import autograd\n",
    "import autograd.numpy as np\n",
    "import matplotlib.pyplot as plt\n",
    "import autograd"
   ]
  },
  {
   "cell_type": "markdown",
   "metadata": {},
   "source": [
    "On ajoute les fonctions exemple qui nous serviront pour tester nos programmes :"
   ]
  },
  {
   "cell_type": "code",
   "execution_count": 2,
   "metadata": {},
   "outputs": [],
   "source": [
    "def f1(x1, x2):\n",
    "    x1 = np.array(x1)\n",
    "    x2 = np.array(x2)\n",
    "    return 3.0 * x1 * x1 - 2.0 * x1 * x2 + 3.0 * x2 * x2 \n",
    "\n",
    "def f2(x1, x2):\n",
    "    return (x1 - 1)**2 + (x1 - x2**2)**2\n",
    "\n",
    "def f3(x, y):\n",
    "    return np.sin(x + y) - np.cos(x * y) - 1 + 0.001 * (x * x + y * y) "
   ]
  },
  {
   "cell_type": "markdown",
   "metadata": {},
   "source": [
    "**Question 1:**\n",
    "\n",
    "\n",
    "Soit c $\\in \\mathbb{R}$, \n",
    "on appelle C={$(x_1,x_2) \\in \\mathbb{R}, f(x_1,x_2)=c$}.\n",
    "\n",
    " Soit $A \\in \\mathbb{R}$, comme $\\underset{||(x_1,x_2)||\\to+\\infty}{lim f(x_1,x_2)}=+\\infty$, on a \n",
    "$$\\exists (x_{10},x_{20}) \\in \\mathbb{R}^2, ||x_1,x_2||\\geq ||x_{10},x_{20}|| \\Rightarrow f(x_1,x_2) \\geq A $$\n",
    "$$\\omega=  \\{ (x_1,x_2) \\in \\mathbb{R}^2, ||(x_1,x_2)||\\leq||x_{10},x_{20}||\\}$$ \n",
    "f continue sur $\\omega$ qui est donc un fermé. La fonction f est donc continue sur un fermé, elle y est donc bornée et atteint ses bornes, \n",
    "$$ B = \\underset{(x_1,x_2) \\in \\omega }{min (f(x_1,x_2))}$$\n",
    "Hors de ce domaine on a par définition\n",
    "$$ \\forall (x_1,x_2) \\notin \\omega, \\ |f(x_1,x_2)| > A$$\n",
    "Donc en posant $a=min(A,B)$ on a $\\forall (x_1,x_2) \\in \\mathbb{R}^2, |f(x_1,x_2)| \\geq a$ \n",
    "\n",
    "On a donc trouvé un minimum pour la fonction f.\n",
    "On fait alors une dissociation de cas en fonction de la valeur de c:\n",
    "\n",
    "* $c < a$ : il n'y a aucune solution possible\n",
    "* $c \\geq a$ : il y a au moins une solution, dans ce cas de plus comme f est continue que  C est un ensemble fermé.\n"
   ]
  },
  {
   "cell_type": "markdown",
   "metadata": {},
   "source": [
    "**Question 2 :** \n",
    "\n",
    "On remarque que en projettant \n",
    "$ X_0 =\\begin{pmatrix}\n",
    "    x_1 - x_{10} \\\\\n",
    "    x_2 - x_{20} \\\\\n",
    "  \\end{pmatrix}$\n",
    "  sur un vecteur orthogonal au gradient de f en $X_0$ de norme 1\n",
    "\n",
    "$$ \\frac{1}{||\\nabla f(x_0)||}    \n",
    " \\begin{pmatrix}\n",
    "  \\partial _2f(x_1,x_2) \\\\\n",
    "  -\\partial _1f(x_1,x_2) \\\\\n",
    " \\end{pmatrix} \n",
    "$$\n",
    "Avec l'hypothèse que $||\\nabla f(x_0)|| \\ne$ 0, on obtient $p(x_1,x_2)$.  \n",
    " \n",
    " Donc $p(x_1,x_2)$ correspond à la distance de $X_0$ à la droite portée par le gradient.\n",
    "\n"
   ]
  },
  {
   "cell_type": "markdown",
   "metadata": {},
   "source": [
    " **Question 3:**\n",
    "\n",
    "On cherche à appliquer le théorème des fonctions implicites. \n",
    "On pose comme fonction \n",
    "$$\n",
    "F(x,t)= \\begin{pmatrix}\n",
    "  f(x)-c \\\\\n",
    "  p(x)-t \\\\\n",
    " \\end{pmatrix} \n",
    " $$\n",
    "On a alors\n",
    "$$ \n",
    "J_F(x)= \\begin{pmatrix}\n",
    "  \\partial _{1}f(x) & \\partial _{2}f(x) \\\\\n",
    "  \\partial _{1}p(x) & \\partial _{2}p(x) \\\\\n",
    " \\end{pmatrix} \n",
    " = \\begin{pmatrix}\n",
    "  \\partial _{1}f(x) & \\partial _{2}f(x) \\\\\n",
    "  \\frac{\\partial _{2}f(x_0)}{||\\nabla f(x_0)||} & -\\frac{\\partial _{1}f(x_0)}{||\\nabla f(x_0)||} \\\\\n",
    " \\end{pmatrix} \n",
    " $$\n",
    "\n",
    "\n",
    "$$ \n",
    "|J_F(x)| = -\\frac{\\partial_1f(x)*\\partial_1f(x_0) +\\partial_2f(x)*\\partial_2f(x_0)}{||\\nabla f(x_0)||}\n",
    "$$\n",
    "\n",
    "On se place dans un voisinage U ouvert de $x_0$ et $t_0$ tel que $|J_F(x)| \\neq 0$  \n",
    "Un tel voisinage existe car on sait que $|J_F(x_0)| \\neq 0$ et F continue.\n",
    "\n",
    "On a comme hypothèses :\n",
    "* f et p continûment différentielles, donc F continûment différentielle\n",
    "*  $J_F(x_0)$ a un déterminant non nul sur U donc elle ets inversible\n",
    "* $\\exists (x_0, t_0) \\in \\mathbb{R}^2, F(x_0,t_0) = 0$\n",
    "\n",
    "Donc en appliquant le théorème des fonctions implicites on a\n",
    "l'existence de voisinages ouverts $U_0$ et $V_0 = ]-\\epsilon:+\\epsilon[$ de $x_0$ et $t_0$ appartenant à U et une unique fontion \n",
    "$\\gamma : V_0 \\rightarrow \\mathbb{R}^2$ continûment différentiable telle que \n",
    "$\\forall t\\in V_0 \\forall x=(x_1,x_2) \\in U_0,\\ f(x,t)=0 \\ \\iff \\ (x_1,x_2)=\\gamma (t)$\n",
    "\n",
    " avec  $p(x_1,x_2)=t$\n",
    "\n"
   ]
  },
  {
   "cell_type": "markdown",
   "metadata": {},
   "source": [
    "**Question 4:**\n",
    "\n",
    "Soit t $\\in ]-\\epsilon:+\\epsilon[$ , toujours d'après le théorème des fonctions intégrables appliqué en Q3 on a la différentiel de $\\gamma$ :\n",
    "$$ \n",
    "d\\gamma(t) = -(\\partial_xF(x,t))^{-1}. \\partial_t F(x,t) \\\\\n",
    "= \\frac{1}{det(J_F(x))} * \\begin{pmatrix}\n",
    "  -\\frac{\\partial _{1}f(x_0)}{||\\nabla f(x_0)||} & -\\partial _{2}f(x) \\\\\n",
    "  -\\frac{\\partial _{2}f(x_0)}{||\\nabla f(x_0)||} & \\partial _{1}f(x) \\\\\n",
    " \\end{pmatrix} \n",
    " * \\begin{pmatrix}\n",
    "  0 \\\\\n",
    "  -1 \\\\\n",
    " \\end{pmatrix}\n",
    " \\\\\n",
    " =\\frac{1}{det((J_F(x))} * \\begin{pmatrix}\n",
    "  \\partial _{2}f(x) \\\\\n",
    "  -\\partial _{1}f(x) \\\\\n",
    " \\end{pmatrix} \n",
    " \\\\\n",
    " \\neq  \\begin{pmatrix}\n",
    "  0 \\\\\n",
    "  0 \\\\\n",
    " \\end{pmatrix}\n",
    "$$\n",
    "Donc $\\gamma$'(t) $\\neq$ 0, il fournit donc une tangente au chemin $\\gamma$.\n",
    "De plus \n",
    "$$  \n",
    "\\nabla f(\\gamma(t))= \\nabla f(x) = \\begin{pmatrix}\n",
    "  \\partial _{1}f(x) \\\\\n",
    "  \\partial _{2}f(x) \\\\\n",
    " \\end{pmatrix} \n",
    "$$\n",
    "qui est non nul par hypothèse au voisinage de $x_0$.\n",
    "On a bien que \n",
    "$$ \n",
    "\\begin{pmatrix}\n",
    "  \\partial _{2}f(x) \\\\\n",
    "  -\\partial _{1}f(x) \\\\\n",
    " \\end{pmatrix} \n",
    " *\n",
    " \\begin{pmatrix}\n",
    "  \\partial _{1}f(x) \\\\\n",
    "  \\partial _{2}f(x) \\\\\n",
    " \\end{pmatrix} \n",
    " = \\begin{pmatrix}\n",
    "0 \\\\\n",
    "  0\\\\\n",
    " \\end{pmatrix} \n",
    " $$\n",
    " Soit $\\gamma'(t)$ est bien orthogonal à $\\nabla f(\\gamma(t))$."
   ]
  },
  {
   "cell_type": "markdown",
   "metadata": {},
   "source": [
    "** Question 5:**\n",
    "\n",
    "On cherche à avoir une certaine précision pour trouver l'intersection cependant il ne faut pas déscendre en dessous de l'$\\epsilon$ machine $\\epsilon \\approx 2,2*10^{-16}$. On choisit donc  eps = $10^{-7}$ \n"
   ]
  },
  {
   "cell_type": "markdown",
   "metadata": {},
   "source": [
    "**Tache 1:**\n",
    "\n",
    "On implémente la fonction de Newton :"
   ]
  },
  {
   "cell_type": "code",
   "execution_count": 3,
   "metadata": {},
   "outputs": [
    {
     "ename": "SyntaxError",
     "evalue": "unexpected EOF while parsing (<ipython-input-3-a31bf52a277b>, line 1)",
     "output_type": "error",
     "traceback": [
      "\u001b[1;36m  File \u001b[1;32m\"<ipython-input-3-a31bf52a277b>\"\u001b[1;36m, line \u001b[1;32m1\u001b[0m\n\u001b[1;33m    def Newton():\u001b[0m\n\u001b[1;37m                 ^\u001b[0m\n\u001b[1;31mSyntaxError\u001b[0m\u001b[1;31m:\u001b[0m unexpected EOF while parsing\n"
     ]
    }
   ],
   "source": [
    "def Newton():"
   ]
  },
  {
   "cell_type": "markdown",
   "metadata": {},
   "source": [
    "**Tâche 2:**\n",
    "\n",
    "On teste avec $f_1$ :"
   ]
  },
  {
   "cell_type": "markdown",
   "metadata": {},
   "source": [
    "**Question 6:**\n",
    "\n",
    "On part d'un point $(x_0,y_0)$ tel que $f(x_0,y_0)=c$ et on cherche l'intersection entre le cercle de rayon $\\delta >0$ et la courbe de niveau $f(x,y)=c$.\n",
    "On a donc comme équations \n",
    "$$\n",
    "\\left\\{ \\begin{array}{ll}\n",
    "        (x_1-x_0)^2 + (y_1-y_0)^2= \\delta^2 \\\\\n",
    "        f(x_1,y_1)=c \\\\\n",
    "    \\end{array}\n",
    "    \\right.\n",
    "  $$\n",
    "  On prend donc comme fonction\n",
    "  $$\n",
    "  F\\begin{pmatrix}  x_1 \\\\    y_1 \\\\ \\end{pmatrix} = \n",
    " \\begin{pmatrix}  (x_1-x_0)^2 + (y_1-y_0)^2- \\delta^2  \\\\\n",
    "  f(x_1,y_1)-c \\\\\n",
    " \\end{pmatrix}\n",
    " $$\n",
    " et on cherche $F\\begin{pmatrix}  x_1 \\\\    y_1 \\\\ \\end{pmatrix} = \\begin{pmatrix}  0 \\\\   0 \\\\ \\end{pmatrix}$ On peut donc appliquer la méthode de Newton coder au dessus.Pour s'assurer  que le point afficher soit bien \"à droite\" quand on est en $(x_0,y_0)$ et qu'on regarde  dans la direction de $\\nabla f(x_0,y_0)$ on initialise la recherche de zero par la méthode de Newton en choisisant comme point de référence $(x_{0init},y_{0init})$ en effectuant une rotation de $-\\frac{\\pi}{2}$ à partir du gradient.\n",
    " C'est à dire :\n",
    " $$\n",
    " \\underbrace{\\begin{pmatrix}  x_{0init} \\\\    y_{0init} \\\\ \\end{pmatrix}}_{point \\ d'initialisation \\ de \\ Newton}\n",
    " =  \\underbrace{\\begin{pmatrix}  0 & -1 \\\\    1 & 0 \\\\ \\end{pmatrix} }_{matrice \\ de \\ rotation}\n",
    " * \\underbrace{(\\begin{pmatrix}  x_0 \\\\    y_0 \\\\ \\end{pmatrix} + \\frac{\\nabla f(x_0,y_0)}{||\\nabla f||}*\\delta)}_{appartenance \\ au \\ cerlce \\  de \\ rayon \\ \\delta}\n",
    " $$\n",
    " On implemente alors la fonction $level \\_{} curve$ qui répète ce procédé :"
   ]
  },
  {
   "cell_type": "code",
   "execution_count": null,
   "metadata": {},
   "outputs": [],
   "source": [
    "def level_curve():"
   ]
  }
 ],
 "metadata": {
  "kernelspec": {
   "display_name": "Python 3",
   "language": "python",
   "name": "python3"
  },
  "language_info": {
   "codemirror_mode": {
    "name": "ipython",
    "version": 3
   },
   "file_extension": ".py",
   "mimetype": "text/x-python",
   "name": "python",
   "nbconvert_exporter": "python",
   "pygments_lexer": "ipython3",
   "version": "3.8.3"
  }
 },
 "nbformat": 4,
 "nbformat_minor": 2
}