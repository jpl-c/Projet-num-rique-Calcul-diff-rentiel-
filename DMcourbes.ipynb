{
 "cells": [
  {
   "cell_type": "markdown",
   "metadata": {},
   "source": [
    "# Courbes de niveau\n",
    "*Jean Pierre Louis COMMUNAL et Viviane Lesbre*\n"
   ]
  },
  {
   "cell_type": "markdown",
   "metadata": {},
   "source": [
    "On importe les modules nécessaires à l'exercice :"
   ]
  },
  {
   "cell_type": "code",
   "execution_count": 11,
   "metadata": {},
   "outputs": [
    {
     "output_type": "error",
     "ename": "ModuleNotFoundError",
     "evalue": "No module named 'autograd'",
     "traceback": [
      "\u001b[1;31m---------------------------------------------------------------------------\u001b[0m",
      "\u001b[1;31mModuleNotFoundError\u001b[0m                       Traceback (most recent call last)",
      "\u001b[1;32m<ipython-input-11-b8549be6e123>\u001b[0m in \u001b[0;36m<module>\u001b[1;34m\u001b[0m\n\u001b[1;32m----> 1\u001b[1;33m \u001b[1;32mimport\u001b[0m \u001b[0mautograd\u001b[0m\u001b[1;33m\u001b[0m\u001b[1;33m\u001b[0m\u001b[0m\n\u001b[0m\u001b[0;32m      2\u001b[0m \u001b[1;32mimport\u001b[0m \u001b[0mautograd\u001b[0m\u001b[1;33m.\u001b[0m\u001b[0mnumpy\u001b[0m \u001b[1;32mas\u001b[0m \u001b[0mnp\u001b[0m\u001b[1;33m\u001b[0m\u001b[1;33m\u001b[0m\u001b[0m\n\u001b[0;32m      3\u001b[0m \u001b[1;32mimport\u001b[0m \u001b[0mmatplotlib\u001b[0m \u001b[1;32mas\u001b[0m \u001b[0mmpl\u001b[0m\u001b[1;33m\u001b[0m\u001b[1;33m\u001b[0m\u001b[0m\n\u001b[0;32m      4\u001b[0m \u001b[1;32mimport\u001b[0m \u001b[0mmatplotlib\u001b[0m\u001b[1;33m.\u001b[0m\u001b[0mpyplot\u001b[0m \u001b[1;32mas\u001b[0m \u001b[0mplt\u001b[0m\u001b[1;33m\u001b[0m\u001b[1;33m\u001b[0m\u001b[0m\n\u001b[0;32m      5\u001b[0m \u001b[1;32mimport\u001b[0m \u001b[0mpandas\u001b[0m \u001b[1;32mas\u001b[0m \u001b[0mpd\u001b[0m\u001b[1;33m\u001b[0m\u001b[1;33m\u001b[0m\u001b[0m\n",
      "\u001b[1;31mModuleNotFoundError\u001b[0m: No module named 'autograd'"
     ]
    }
   ],
   "source": [
    "import autograd\n",
    "import autograd.numpy as np\n",
    "import matplotlib as mpl\n",
    "import matplotlib.pyplot as plt\n",
    "import pandas as pd\n",
    "plt.rcParams['figure.figsize'] = [10, 10] # [width, height] (inches). \n",
    "from IPython.display import display"
   ]
  },
  {
   "cell_type": "markdown",
   "metadata": {},
   "source": [
    "On ajoute les fonctions exemple qui nous serviront pour tester nos programmes :"
   ]
  },
  {
   "cell_type": "code",
   "execution_count": 13,
   "metadata": {},
   "outputs": [],
   "source": [
    "def grad(f):\n",
    "    g = autograd.grad\n",
    "    def grad_f(x, y):\n",
    "        return np.array([g(f, 0)(x, y), g(f, 1)(x, y)])\n",
    "    return grad_f\n",
    "def J(f):\n",
    "    j = autograd.jacobian\n",
    "    def J_f(x, y):\n",
    "        return np.array([j(f, 0)(x, y), j(f, 1)(x, y)]).T\n",
    "    return J_f\n"
   ]
  },
  {
   "cell_type": "code",
   "execution_count": 14,
   "metadata": {},
   "outputs": [],
   "source": [
    "def f1(x1, x2):\n",
    "    x1 = np.array(x1)\n",
    "    x2 = np.array(x2)\n",
    "    return 3.0 * x1 * x1 - 2.0 * x1 * x2 + 3.0 * x2 * x2 \n",
    "\n",
    "def f2(x1, x2):\n",
    "    return (x1 - 1)**2 + (x1 - x2**2)**2\n",
    "\n",
    "def f3(x, y):\n",
    "    return np.sin(x + y) - np.cos(x * y) - 1 + 0.001 * (x * x + y * y) "
   ]
  },
  {
   "source": [
    "Pour le tracé des courbes on définit aussi:\n"
   ],
   "cell_type": "markdown",
   "metadata": {}
  },
  {
   "cell_type": "code",
   "execution_count": 19,
   "metadata": {},
   "outputs": [],
   "source": [
    "def display_contour(f, x, y, levels):\n",
    "    X, Y = np.meshgrid(x, y)\n",
    "    Z = f(X, Y)\n",
    "    fig, ax = plt.subplots()\n",
    "    contour_set = plt.contour(\n",
    "        X, Y, Z, colors=\"grey\", linestyles=\"dashed\", \n",
    "        levels=levels \n",
    "    )\n",
    "    ax.clabel(contour_set)\n",
    "    plt.grid(True)\n",
    "    plt.xlabel(\"$x_1$\") \n",
    "    plt.ylabel(\"$x_2$\")\n",
    "    plt.gca().set_aspect(\"equal\")"
   ]
  },
  {
   "cell_type": "markdown",
   "metadata": {},
   "source": [
    "**Question 1:**\n",
    "\n",
    "\n",
    "Soit c $\\in \\mathbb{R}$, \n",
    "on appelle C={$(x_1,x_2) \\in \\mathbb{R}, f(x_1,x_2)=c$}.\n",
    "\n",
    " Soit $A \\in \\mathbb{R}$, comme $\\underset{||(x_1,x_2)||\\to+\\infty}{lim f(x_1,x_2)}=+\\infty$, on a \n",
    "$$\\exists (x_{10},x_{20}) \\in \\mathbb{R}^2, ||x_1,x_2||\\geq ||x_{10},x_{20}|| \\Rightarrow f(x_1,x_2) \\geq A $$\n",
    "$$\\omega=  \\{ (x_1,x_2) \\in \\mathbb{R}^2, ||(x_1,x_2)||\\leq||x_{10},x_{20}||\\}$$ \n",
    "f continue sur $\\omega$ qui est donc un fermé. La fonction f est donc continue sur un fermé, elle y est donc bornée et atteint ses bornes, \n",
    "$$ B = \\underset{(x_1,x_2) \\in \\omega }{min (f(x_1,x_2))}$$\n",
    "Hors de ce domaine on a par définition\n",
    "$$ \\forall (x_1,x_2) \\notin \\omega, \\ |f(x_1,x_2)| > A$$\n",
    "Donc en posant $a=min(A,B)$ on a $\\forall (x_1,x_2) \\in \\mathbb{R}^2, |f(x_1,x_2)| \\geq a$ \n",
    "\n",
    "On a donc trouvé un minimum pour la fonction f.\n",
    "On fait alors une dissociation de cas en fonction de la valeur de c:\n",
    "\n",
    "* $c < a$ : il n'y a aucune solution possible\n",
    "* $c \\geq a$ : il y a au moins une solution, dans ce cas de plus comme f est continue que  C est un ensemble fermé.\n"
   ]
  },
  {
   "source": [
    "De même on définit les fonctions gradient, calcul de la jacobienne :"
   ],
   "cell_type": "markdown",
   "metadata": {}
  },
  {
   "cell_type": "markdown",
   "metadata": {},
   "source": [
    "**Question 2 :** \n",
    "\n",
    "On remarque que en projettant \n",
    "$ X_0 =\\begin{pmatrix}\n",
    "    x_1 - x_{10} \\\\\n",
    "    x_2 - x_{20} \\\\\n",
    "  \\end{pmatrix}$\n",
    "  sur un vecteur orthogonal au gradient de f en $X_0$ de norme 1\n",
    "\n",
    "$$ \\frac{1}{||\\nabla f(x_0)||}    \n",
    " \\begin{pmatrix}\n",
    "  \\partial _2f(x_1,x_2) \\\\\n",
    "  -\\partial _1f(x_1,x_2) \\\\\n",
    " \\end{pmatrix} \n",
    "$$\n",
    "Avec l'hypothèse que $||\\nabla f(x_0)|| \\ne$ 0, on obtient $p(x_1,x_2)$.  \n",
    " \n",
    " Donc $p(x_1,x_2)$ correspond à la distance de $X_0$ à la droite portée par le gradient.\n",
    "\n"
   ]
  },
  {
   "cell_type": "markdown",
   "metadata": {},
   "source": [
    " **Question 3:**\n",
    "\n",
    "On cherche à appliquer le théorème des fonctions implicites. \n",
    "On pose comme fonction \n",
    "$$\n",
    "F(x,t)= \\begin{pmatrix}\n",
    "  f(x)-c \\\\\n",
    "  p(x)-t \\\\\n",
    " \\end{pmatrix} \n",
    " $$\n",
    "On a alors\n",
    "$$ \n",
    "J_F(x)= \\begin{pmatrix}\n",
    "  \\partial _{1}f(x) & \\partial _{2}f(x) \\\\\n",
    "  \\partial _{1}p(x) & \\partial _{2}p(x) \\\\\n",
    " \\end{pmatrix} \n",
    " = \\begin{pmatrix}\n",
    "  \\partial _{1}f(x) & \\partial _{2}f(x) \\\\\n",
    "  \\frac{\\partial _{2}f(x_0)}{||\\nabla f(x_0)||} & -\\frac{\\partial _{1}f(x_0)}{||\\nabla f(x_0)||} \\\\\n",
    " \\end{pmatrix} \n",
    " $$\n",
    "\n",
    "\n",
    "$$ \n",
    "|J_F(x)| = -\\frac{\\partial_1f(x)*\\partial_1f(x_0) +\\partial_2f(x)*\\partial_2f(x_0)}{||\\nabla f(x_0)||}\n",
    "$$\n",
    "\n",
    "On se place dans un voisinage U ouvert de $x_0$ et $t_0$ tel que $|J_F(x)| \\neq 0$  \n",
    "Un tel voisinage existe car on sait que $|J_F(x_0)| \\neq 0$ et F continue.\n",
    "\n",
    "On a comme hypothèses :\n",
    "* f et p continûment différentielles, donc F continûment différentielle\n",
    "*  $J_F(x_0)$ a un déterminant non nul sur U donc elle ets inversible\n",
    "* $\\exists (x_0, t_0) \\in \\mathbb{R}^2, F(x_0,t_0) = 0$\n",
    "\n",
    "Donc en appliquant le théorème des fonctions implicites on a\n",
    "l'existence de voisinages ouverts $U_0$ et $V_0 = ]-\\epsilon:+\\epsilon[$ de $x_0$ et $t_0$ appartenant à U et une unique fontion \n",
    "$\\gamma : V_0 \\rightarrow \\mathbb{R}^2$ continûment différentiable telle que \n",
    "$\\forall t\\in V_0 \\forall x=(x_1,x_2) \\in U_0,\\ f(x,t)=0 \\ \\iff \\ (x_1,x_2)=\\gamma (t)$\n",
    "\n",
    " avec  $p(x_1,x_2)=t$\n",
    "\n"
   ]
  },
  {
   "cell_type": "markdown",
   "metadata": {},
   "source": [
    "**Question 4:**\n",
    "\n",
    "Soit t $\\in ]-\\epsilon:+\\epsilon[$ , toujours d'après le théorème des fonctions intégrables appliqué en Q3 on a la différentiel de $\\gamma$ :\n",
    "$$ \n",
    "d\\gamma(t) = -(\\partial_xF(x,t))^{-1}. \\partial_t F(x,t) \\\\\n",
    "= \\frac{1}{det(J_F(x))} * \\begin{pmatrix}\n",
    "  -\\frac{\\partial _{1}f(x_0)}{||\\nabla f(x_0)||} & -\\partial _{2}f(x) \\\\\n",
    "  -\\frac{\\partial _{2}f(x_0)}{||\\nabla f(x_0)||} & \\partial _{1}f(x) \\\\\n",
    " \\end{pmatrix} \n",
    " * \\begin{pmatrix}\n",
    "  0 \\\\\n",
    "  -1 \\\\\n",
    " \\end{pmatrix}\n",
    " \\\\\n",
    " =\\frac{1}{det((J_F(x))} * \\begin{pmatrix}\n",
    "  \\partial _{2}f(x) \\\\\n",
    "  -\\partial _{1}f(x) \\\\\n",
    " \\end{pmatrix} \n",
    " \\\\\n",
    " \\neq  \\begin{pmatrix}\n",
    "  0 \\\\\n",
    "  0 \\\\\n",
    " \\end{pmatrix}\n",
    "$$\n",
    "Donc $\\gamma$'(t) $\\neq$ 0, il fournit donc une tangente au chemin $\\gamma$.\n",
    "De plus \n",
    "$$  \n",
    "\\nabla f(\\gamma(t))= \\nabla f(x) = \\begin{pmatrix}\n",
    "  \\partial _{1}f(x) \\\\\n",
    "  \\partial _{2}f(x) \\\\\n",
    " \\end{pmatrix} \n",
    "$$\n",
    "qui est non nul par hypothèse au voisinage de $x_0$.\n",
    "On a bien que \n",
    "$$ \n",
    "\\begin{pmatrix}\n",
    "  \\partial _{2}f(x) \\\\\n",
    "  -\\partial _{1}f(x) \\\\\n",
    " \\end{pmatrix} \n",
    " *\n",
    " \\begin{pmatrix}\n",
    "  \\partial _{1}f(x) \\\\\n",
    "  \\partial _{2}f(x) \\\\\n",
    " \\end{pmatrix} \n",
    " = \\begin{pmatrix}\n",
    "0 \\\\\n",
    "  0\\\\\n",
    " \\end{pmatrix} \n",
    " $$\n",
    " Soit $\\gamma'(t)$ est bien orthogonal à $\\nabla f(\\gamma(t))$."
   ]
  },
  {
   "cell_type": "markdown",
   "metadata": {},
   "source": [
    "** Question 5:**\n",
    "\n",
    "On cherche à avoir une certaine précision pour trouver l'intersection cependant il ne faut pas déscendre en dessous de l'$\\epsilon$ machine $\\epsilon \\approx 2,2*10^{-16}$. On choisit donc  eps = $10^{-7}$ \n"
   ]
  },
  {
   "cell_type": "markdown",
   "metadata": {},
   "source": [
    "**Tache 1:**\n",
    "\n",
    "On implémente la fonction de Newton :"
   ]
  },
  {
   "cell_type": "code",
   "execution_count": 15,
   "metadata": {},
   "outputs": [],
   "source": [
    "def Newton(F, x0, y0, eps, N):\n",
    "    J_F = J(F)\n",
    "    for i in range(N):\n",
    "        X0 = np.array([x0, y0])\n",
    "        J_F_inv = np.linalg.inv(J_F(X0[0], X0[1])) # calcul de l'inverse de la jacobienne en x0, y0\n",
    "        X = X0 - np.dot(J_F_inv,F(X0[0], X0[1])) # calcul du nouveau point X =(x, y)\n",
    "        x, y = X[0], X[1]\n",
    "        if np.sqrt((x - x0)**2 + (y - y0)**2) <= eps:\n",
    "            return (x, y)\n",
    "        x0, y0 = x, y\n",
    "    else:\n",
    "        raise ValueError(f\"no convergence in {N} steps.\")\n"
   ]
  },
  {
   "cell_type": "markdown",
   "metadata": {},
   "source": [
    "**Tâche 2:**\n",
    "\n",
    "On teste avec $f_1$ :"
   ]
  },
  {
   "cell_type": "code",
   "execution_count": 16,
   "metadata": {},
   "outputs": [
    {
     "output_type": "error",
     "ename": "NameError",
     "evalue": "name 'autograd' is not defined",
     "traceback": [
      "\u001b[1;31m---------------------------------------------------------------------------\u001b[0m",
      "\u001b[1;31mNameError\u001b[0m                                 Traceback (most recent call last)",
      "\u001b[1;32m<ipython-input-16-fdc23c307828>\u001b[0m in \u001b[0;36m<module>\u001b[1;34m\u001b[0m\n\u001b[0;32m      2\u001b[0m     \u001b[1;32mreturn\u001b[0m \u001b[0mnp\u001b[0m\u001b[1;33m.\u001b[0m\u001b[0marray\u001b[0m\u001b[1;33m(\u001b[0m\u001b[1;33m[\u001b[0m\u001b[0mf1\u001b[0m\u001b[1;33m(\u001b[0m\u001b[0mx\u001b[0m\u001b[1;33m,\u001b[0m\u001b[0my\u001b[0m\u001b[1;33m)\u001b[0m\u001b[1;33m-\u001b[0m\u001b[1;36m0.8\u001b[0m\u001b[1;33m,\u001b[0m \u001b[0mx\u001b[0m\u001b[1;33m-\u001b[0m\u001b[0my\u001b[0m\u001b[1;33m]\u001b[0m\u001b[1;33m)\u001b[0m\u001b[1;33m\u001b[0m\u001b[1;33m\u001b[0m\u001b[0m\n\u001b[0;32m      3\u001b[0m \u001b[1;33m\u001b[0m\u001b[0m\n\u001b[1;32m----> 4\u001b[1;33m \u001b[0mX_sol\u001b[0m \u001b[1;33m=\u001b[0m \u001b[0mNewton\u001b[0m\u001b[1;33m(\u001b[0m\u001b[0mF1\u001b[0m\u001b[1;33m,\u001b[0m \u001b[1;36m0.8\u001b[0m\u001b[1;33m,\u001b[0m \u001b[1;36m0.8\u001b[0m\u001b[1;33m,\u001b[0m \u001b[1;36m0.001\u001b[0m\u001b[1;33m,\u001b[0m \u001b[1;36m100\u001b[0m\u001b[1;33m)\u001b[0m\u001b[1;33m\u001b[0m\u001b[1;33m\u001b[0m\u001b[0m\n\u001b[0m\u001b[0;32m      5\u001b[0m \u001b[0mx1\u001b[0m\u001b[1;33m,\u001b[0m \u001b[0mx2\u001b[0m \u001b[1;33m=\u001b[0m \u001b[0mX_sol\u001b[0m\u001b[1;33m[\u001b[0m\u001b[1;36m0\u001b[0m\u001b[1;33m]\u001b[0m\u001b[1;33m,\u001b[0m \u001b[0mX_sol\u001b[0m\u001b[1;33m[\u001b[0m\u001b[1;36m1\u001b[0m\u001b[1;33m]\u001b[0m\u001b[1;33m\u001b[0m\u001b[1;33m\u001b[0m\u001b[0m\n\u001b[0;32m      6\u001b[0m \u001b[0mprint\u001b[0m\u001b[1;33m(\u001b[0m\u001b[0mX_sol\u001b[0m\u001b[1;33m,\u001b[0m \u001b[0mf1\u001b[0m\u001b[1;33m(\u001b[0m\u001b[0mx1\u001b[0m\u001b[1;33m,\u001b[0m \u001b[0mx2\u001b[0m\u001b[1;33m)\u001b[0m\u001b[1;33m)\u001b[0m\u001b[1;33m\u001b[0m\u001b[1;33m\u001b[0m\u001b[0m\n",
      "\u001b[1;32m<ipython-input-15-e29e248ebd33>\u001b[0m in \u001b[0;36mNewton\u001b[1;34m(F, x0, y0, eps, N)\u001b[0m\n\u001b[0;32m      1\u001b[0m \u001b[1;32mdef\u001b[0m \u001b[0mNewton\u001b[0m\u001b[1;33m(\u001b[0m\u001b[0mF\u001b[0m\u001b[1;33m,\u001b[0m \u001b[0mx0\u001b[0m\u001b[1;33m,\u001b[0m \u001b[0my0\u001b[0m\u001b[1;33m,\u001b[0m \u001b[0meps\u001b[0m\u001b[1;33m,\u001b[0m \u001b[0mN\u001b[0m\u001b[1;33m)\u001b[0m\u001b[1;33m:\u001b[0m\u001b[1;33m\u001b[0m\u001b[1;33m\u001b[0m\u001b[0m\n\u001b[1;32m----> 2\u001b[1;33m     \u001b[0mJ_F\u001b[0m \u001b[1;33m=\u001b[0m \u001b[0mJ\u001b[0m\u001b[1;33m(\u001b[0m\u001b[0mF\u001b[0m\u001b[1;33m)\u001b[0m\u001b[1;33m\u001b[0m\u001b[1;33m\u001b[0m\u001b[0m\n\u001b[0m\u001b[0;32m      3\u001b[0m     \u001b[1;32mfor\u001b[0m \u001b[0mi\u001b[0m \u001b[1;32min\u001b[0m \u001b[0mrange\u001b[0m\u001b[1;33m(\u001b[0m\u001b[0mN\u001b[0m\u001b[1;33m)\u001b[0m\u001b[1;33m:\u001b[0m\u001b[1;33m\u001b[0m\u001b[1;33m\u001b[0m\u001b[0m\n\u001b[0;32m      4\u001b[0m         \u001b[0mX0\u001b[0m \u001b[1;33m=\u001b[0m \u001b[0mnp\u001b[0m\u001b[1;33m.\u001b[0m\u001b[0marray\u001b[0m\u001b[1;33m(\u001b[0m\u001b[1;33m[\u001b[0m\u001b[0mx0\u001b[0m\u001b[1;33m,\u001b[0m \u001b[0my0\u001b[0m\u001b[1;33m]\u001b[0m\u001b[1;33m)\u001b[0m\u001b[1;33m\u001b[0m\u001b[1;33m\u001b[0m\u001b[0m\n\u001b[0;32m      5\u001b[0m         \u001b[0mJ_F_inv\u001b[0m \u001b[1;33m=\u001b[0m \u001b[0mnp\u001b[0m\u001b[1;33m.\u001b[0m\u001b[0mlinalg\u001b[0m\u001b[1;33m.\u001b[0m\u001b[0minv\u001b[0m\u001b[1;33m(\u001b[0m\u001b[0mJ_F\u001b[0m\u001b[1;33m(\u001b[0m\u001b[0mX0\u001b[0m\u001b[1;33m[\u001b[0m\u001b[1;36m0\u001b[0m\u001b[1;33m]\u001b[0m\u001b[1;33m,\u001b[0m \u001b[0mX0\u001b[0m\u001b[1;33m[\u001b[0m\u001b[1;36m1\u001b[0m\u001b[1;33m]\u001b[0m\u001b[1;33m)\u001b[0m\u001b[1;33m)\u001b[0m \u001b[1;31m# calcul de l'inverse de la jacobienne en x0, y0\u001b[0m\u001b[1;33m\u001b[0m\u001b[1;33m\u001b[0m\u001b[0m\n",
      "\u001b[1;32m<ipython-input-13-23b765aefdff>\u001b[0m in \u001b[0;36mJ\u001b[1;34m(f)\u001b[0m\n\u001b[0;32m      5\u001b[0m     \u001b[1;32mreturn\u001b[0m \u001b[0mgrad_f\u001b[0m\u001b[1;33m\u001b[0m\u001b[1;33m\u001b[0m\u001b[0m\n\u001b[0;32m      6\u001b[0m \u001b[1;32mdef\u001b[0m \u001b[0mJ\u001b[0m\u001b[1;33m(\u001b[0m\u001b[0mf\u001b[0m\u001b[1;33m)\u001b[0m\u001b[1;33m:\u001b[0m\u001b[1;33m\u001b[0m\u001b[1;33m\u001b[0m\u001b[0m\n\u001b[1;32m----> 7\u001b[1;33m     \u001b[0mj\u001b[0m \u001b[1;33m=\u001b[0m \u001b[0mautograd\u001b[0m\u001b[1;33m.\u001b[0m\u001b[0mjacobian\u001b[0m\u001b[1;33m\u001b[0m\u001b[1;33m\u001b[0m\u001b[0m\n\u001b[0m\u001b[0;32m      8\u001b[0m     \u001b[1;32mdef\u001b[0m \u001b[0mJ_f\u001b[0m\u001b[1;33m(\u001b[0m\u001b[0mx\u001b[0m\u001b[1;33m,\u001b[0m \u001b[0my\u001b[0m\u001b[1;33m)\u001b[0m\u001b[1;33m:\u001b[0m\u001b[1;33m\u001b[0m\u001b[1;33m\u001b[0m\u001b[0m\n\u001b[0;32m      9\u001b[0m         \u001b[1;32mreturn\u001b[0m \u001b[0mnp\u001b[0m\u001b[1;33m.\u001b[0m\u001b[0marray\u001b[0m\u001b[1;33m(\u001b[0m\u001b[1;33m[\u001b[0m\u001b[0mj\u001b[0m\u001b[1;33m(\u001b[0m\u001b[0mf\u001b[0m\u001b[1;33m,\u001b[0m \u001b[1;36m0\u001b[0m\u001b[1;33m)\u001b[0m\u001b[1;33m(\u001b[0m\u001b[0mx\u001b[0m\u001b[1;33m,\u001b[0m \u001b[0my\u001b[0m\u001b[1;33m)\u001b[0m\u001b[1;33m,\u001b[0m \u001b[0mj\u001b[0m\u001b[1;33m(\u001b[0m\u001b[0mf\u001b[0m\u001b[1;33m,\u001b[0m \u001b[1;36m1\u001b[0m\u001b[1;33m)\u001b[0m\u001b[1;33m(\u001b[0m\u001b[0mx\u001b[0m\u001b[1;33m,\u001b[0m \u001b[0my\u001b[0m\u001b[1;33m)\u001b[0m\u001b[1;33m]\u001b[0m\u001b[1;33m)\u001b[0m\u001b[1;33m.\u001b[0m\u001b[0mT\u001b[0m\u001b[1;33m\u001b[0m\u001b[1;33m\u001b[0m\u001b[0m\n",
      "\u001b[1;31mNameError\u001b[0m: name 'autograd' is not defined"
     ]
    }
   ],
   "source": [
    "def F1(x,y):\n",
    "    return np.array([f1(x,y)-0.8, x-y])\n",
    "\n",
    "\n",
    "X_sol = Newton(F1, 0.8, 0.8, 0.001, 100)\n",
    "x1, x2 = X_sol[0], X_sol[1]\n",
    "print(X_sol, f1(x1, x2))\n",
    "\n",
    "#On fait varier epsilon \n",
    "plt.figure()\n",
    "\n",
    "display_contour(\n",
    "    f1, \n",
    "    x = np.linspace(-1.0, 1.0, 100), \n",
    "    y = np.linspace(-1.0, 1.0, 100), \n",
    "    levels = 10 # 10 levels, automatically selected\n",
    ")\n",
    "eps = np.linspace(0.0000001,1,10)\n",
    "for i in range(10):\n",
    "    X_sol = Newton(F1, 0.8, 0.8, eps[i], 100)\n",
    "    x1, x2 = X_sol[0], X_sol[1]\n",
    "    plt.plot(x1,x2,'bo')\n",
    "plt.title(\"Variation de epsilon\")\n",
    "plt.show()\n",
    "\n",
    "#on fait varier la contrainte supplémentaire x = 1/2*y\n",
    "def F2(x,y):\n",
    "    return np.array([f1(x,y)-0.8, x-2*y])\n",
    "\n",
    "plt.figure()\n",
    "\n",
    "display_contour(\n",
    "    f1, \n",
    "    x = np.linspace(-1.0, 1.0, 100), \n",
    "    y = np.linspace(-1.0, 1.0, 100), \n",
    "    levels = 10 # 10 levels, automatically selected\n",
    ")\n",
    "X_sol1 = Newton(F2, 0.8, 0.8, 0.001, 100)\n",
    "x11, x21 = X_sol1[0], X_sol1[1]\n",
    "plt.plot(x11,x21,'go')\n",
    "plt.title(\"Variation de la contrainte\")"
   ]
  },
  {
   "cell_type": "markdown",
   "metadata": {},
   "source": [
    "**Question 6:**\n",
    "\n",
    "On part d'un point $(x_0,y_0)$ tel que $f(x_0,y_0)=c$ et on cherche l'intersection entre le cercle de rayon $\\delta >0$ et la courbe de niveau $f(x,y)=c$.\n",
    "On a donc comme équations \n",
    "$$\n",
    "\\left\\{ \\begin{array}{ll}\n",
    "        (x_1-x_0)^2 + (y_1-y_0)^2= \\delta^2 \\\\\n",
    "        f(x_1,y_1)=c \\\\\n",
    "    \\end{array}\n",
    "    \\right.\n",
    "  $$\n",
    "  On prend donc comme fonction\n",
    "  $$\n",
    "  F\\begin{pmatrix}  x_1 \\\\    y_1 \\\\ \\end{pmatrix} = \n",
    " \\begin{pmatrix}  (x_1-x_0)^2 + (y_1-y_0)^2- \\delta^2  \\\\\n",
    "  f(x_1,y_1)-c \\\\\n",
    " \\end{pmatrix}\n",
    " $$\n",
    " et on cherche $F\\begin{pmatrix}  x_1 \\\\    y_1 \\\\ \\end{pmatrix} = \\begin{pmatrix}  0 \\\\   0 \\\\ \\end{pmatrix}$ On peut donc appliquer la méthode de Newton coder au dessus.Pour s'assurer  que le point afficher soit bien \"à droite\" quand on est en $(x_0,y_0)$ et qu'on regarde  dans la direction de $\\nabla f(x_0,y_0)$ on initialise la recherche de zero par la méthode de Newton en choisisant comme point de référence $(x_{0init},y_{0init})$ en effectuant une rotation de $-\\frac{\\pi}{2}$ à partir du gradient.\n",
    " C'est à dire :\n",
    " $$\n",
    " \\underbrace{\\begin{pmatrix}  x_{0init} \\\\    y_{0init} \\\\ \\end{pmatrix}}_{point \\ d'initialisation \\ de \\ Newton}\n",
    " =  \\underbrace{\\begin{pmatrix}  0 & -1 \\\\    1 & 0 \\\\ \\end{pmatrix} }_{matrice \\ de \\ rotation}\n",
    " * \\underbrace{(\\begin{pmatrix}  x_0 \\\\    y_0 \\\\ \\end{pmatrix} + \\frac{\\nabla f(x_0,y_0)}{||\\nabla f||}*\\delta)}_{appartenance \\ au \\ cerlce \\  de \\ rayon \\ \\delta}\n",
    " $$\n",
    " On implemente alors la fonction $level \\_{} curve$ qui répète ce procédé :"
   ]
  },
  {
   "source": [
    "**Tâche 3:**"
   ],
   "cell_type": "markdown",
   "metadata": {}
  },
  {
   "cell_type": "code",
   "execution_count": null,
   "metadata": {},
   "outputs": [],
   "source": [
    "def level_curve():"
   ]
  },
  {
   "source": [
    "**Question 7 et Tâche 4:**\n",
    "\n",
    "On cherche d'abord à écrire une fonction qui teste si deux segments on une intersection : \n",
    "Pour cela, on paramètre nos deux segments $u_{AB} \\in [0;1]$ et  $u_{CD} \\in [0;1]$. On veut $A+u_{AB}*(B-A)= C+u_{CD}*(D-C)$\n",
    "\n",
    "\n",
    "Comme on est dans un plan on obtient deux équations:\n",
    "$$\n",
    "\\left\\{ \\begin{array}{ll}\n",
    "        x_{AB} = x_A + u_{AB}*(x_B-x_A) \\\\\n",
    "        y_{AB} = y_A + u_{AB}*(y_B-y_A) \\\\\n",
    "    \\end{array}\n",
    "    \\right.\n",
    "  $$\n",
    "  Soit en résolvant ce système :\n",
    "  $$\n",
    "  \\left\\{ \\begin{array}{ll}\n",
    "        u_{AB} = \\frac{(x_D-x_C)(y_C-y_A)+(x_A-x_C)(y_D-y_C)}{(x_D-x_C)(y_B-y_A)-(x_B-x_A)(y_D-y_c))} \\\\\n",
    "        u_{CD} = \\frac{(x_B-x_A)(y_C-y_A)-(x_C-x_A)(y_B-y_A)}{(x_D-x_C)(y_B-y_A)-(x_B-x_A)(y_D-y_c))} \\\\\n",
    "    \\end{array}\n",
    "    \\right.\n",
    "$$\n",
    "Si le dénominateur s'annule, les deux segments sont parrallèles, donc ne se croisent jamais.\n",
    "\n"
   ],
   "cell_type": "markdown",
   "metadata": {}
  },
  {
   "cell_type": "code",
   "execution_count": null,
   "metadata": {},
   "outputs": [],
   "source": [
    "def intersection_segment(AB,CD):     # on rentre deux arrays de taille 2*2\n",
    "    xA = AB[0][0]\n",
    "    yA = AB[0][1]\n",
    "    xB = AB[1][0]\n",
    "    yB = AB[1][1]\n",
    "    xC = CD[1][0]\n",
    "    yC = CD[0][1]\n",
    "    xD = CD[1][0] \n",
    "    yD = CD[1][1]\n",
    "    Drapeau = False\n",
    "    message = ''\n",
    "    if ((xD-xC)*(yB-yA)-(xB-xA)*(yD-yC)) == 0 :\n",
    "        message += \"deux segments sont parrallèles\"\n",
    "    else :\n",
    "        uAB = ((xD-xC)*(yC-yA)-(xC-xA)*(yD-yC)) / ((xD-xC)*(yB-yA)-(xB-xA)*(yD-yC))\n",
    "        uCD = ((xB-xA)*(yC-yA)-(xC-xA)*(yB-yA)) / ((xD-xC)*(yB-yA)-(xB-xA)*(yD-yC))\n",
    "        if 0<=uAB<=1 and 0<=uCD<=1 :\n",
    "            x = xA + uAB*(xB-xA)\n",
    "            y = yA + uAB*(yB-yA)\n",
    "            Drapeau = True\n",
    "    if Drapeau == False :\n",
    "        x,y = 0,0\n",
    "    return Drapeau , (x,y) , message"
   ]
  },
  {
   "source": [
    "On observe les courbes de niveau de la fonction Rosenbrock, on remarque que les courbes de niveaux se croisent, ces courbes auto-intersectantes sont assez rares car ...\n",
    "\n",
    "On peut donc tester l'intersection du dernier segment avec juste le premier segment.\n",
    "On écrit alors une nouvelle fonction $level\\_curve$ :"
   ],
   "cell_type": "markdown",
   "metadata": {}
  },
  {
   "source": [
    " **Tâche 6:**\n",
    " "
   ],
   "cell_type": "markdown",
   "metadata": {}
  },
  {
   "cell_type": "code",
   "execution_count": 1,
   "metadata": {},
   "outputs": [],
   "source": [
    "def gamma(t, P1, P2, u1, u2):\n",
    "    if not(0 <= t <= 1):\n",
    "        return \"t doit être compris entre 0 et 1\"\n",
    "    vect_12 = np.array([P2[0]-P1[0],P2[1]-P1[1]])\n",
    "    if (2*vect_12[0] != (u1 + u2)[0]) and (2*vect_12[1] != (u1 + u2)[1]):\n",
    "        print(\"pas d'interpolation : on trace le segment\")\n",
    "        X = P1 + t * vect_12\n",
    "        return X\n",
    "    else:\n",
    "        print(\"On peut faire l'interpolation\")\n",
    "        X = P1 + t * u1 + t * t * (vect_12-u1) \n",
    "        return X"
   ]
  },
  {
   "source": [
    "**Tâche 7:**"
   ],
   "cell_type": "markdown",
   "metadata": {}
  },
  {
   "source": [
    "def level_curve2()"
   ],
   "cell_type": "code",
   "metadata": {},
   "execution_count": null,
   "outputs": []
  },
  {
   "source": [
    "**Tâhce 8:**\n",
    "\n",
    "\n",
    "On vérifie graphiquement sur les exemples de références :"
   ],
   "cell_type": "markdown",
   "metadata": {}
  },
  {
   "cell_type": "code",
   "execution_count": null,
   "metadata": {},
   "outputs": [],
   "source": []
  }
 ],
 "metadata": {
  "kernelspec": {
   "display_name": "Python 3",
   "language": "python",
   "name": "python3"
  },
  "language_info": {
   "codemirror_mode": {
    "name": "ipython",
    "version": 3
   },
   "file_extension": ".py",
   "mimetype": "text/x-python",
   "name": "python",
   "nbconvert_exporter": "python",
   "pygments_lexer": "ipython3",
   "version": "3.8.5-final"
  }
 },
 "nbformat": 4,
 "nbformat_minor": 2
}