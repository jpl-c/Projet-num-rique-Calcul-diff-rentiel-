{
 "cells": [
  {
   "cell_type": "markdown",
   "metadata": {},
   "source": [
    "# Courbes de niveau\n",
    "*Jean Pierre Louis COMMUNAL et Viviane Lesbre*\n"
   ]
  },
  {
   "cell_type": "markdown",
   "metadata": {},
   "source": [
    "On importe les modules nécessaires à l'exercice :"
   ]
  },
  {
   "cell_type": "code",
   "execution_count": 15,
   "metadata": {},
   "outputs": [],
   "source": [
    "import autograd\n",
    "import autograd.numpy as np\n",
    "import matplotlib as mpl\n",
    "import matplotlib.pyplot as plt\n",
    "import pandas as pd\n",
    "plt.rcParams['figure.figsize'] = [10, 10] # [width, height] (inches). \n",
    "from IPython.display import display"
   ]
  },
  {
   "cell_type": "markdown",
   "metadata": {},
   "source": [
    "On ajoute les fonctions exemple qui nous serviront pour tester nos programmes :"
   ]
  },
  {
   "cell_type": "code",
   "execution_count": 4,
   "metadata": {},
   "outputs": [],
   "source": [
    "def grad(f):\n",
    "    g = autograd.grad\n",
    "    def grad_f(x, y):\n",
    "        return np.array([g(f, 0)(x, y), g(f, 1)(x, y)])\n",
    "    return grad_f\n",
    "def J(f):\n",
    "    j = autograd.jacobian\n",
    "    def J_f(x, y):\n",
    "        return np.array([j(f, 0)(x, y), j(f, 1)(x, y)]).T\n",
    "    return J_f\n"
   ]
  },
  {
   "cell_type": "code",
   "execution_count": 5,
   "metadata": {},
   "outputs": [],
   "source": [
    "def f1(x1, x2):\n",
    "    x1 = np.array(x1)\n",
    "    x2 = np.array(x2)\n",
    "    return 3.0 * x1 * x1 - 2.0 * x1 * x2 + 3.0 * x2 * x2 \n",
    "\n",
    "def f2(x1, x2):\n",
    "    return (x1 - 1)**2 + (x1 - x2**2)**2\n",
    "\n",
    "def f3(x, y):\n",
    "    return np.sin(x + y) - np.cos(x * y) - 1 + 0.001 * (x * x + y * y) "
   ]
  },
  {
   "cell_type": "markdown",
   "metadata": {},
   "source": [
    "Pour le tracé des courbes on définit aussi:\n"
   ]
  },
  {
   "cell_type": "code",
   "execution_count": 6,
   "metadata": {},
   "outputs": [],
   "source": [
    "def display_contour(f, x, y, levels):\n",
    "    X, Y = np.meshgrid(x, y)\n",
    "    Z = f(X, Y)\n",
    "    fig, ax = plt.subplots()\n",
    "    contour_set = plt.contour(\n",
    "        X, Y, Z, colors=\"grey\", linestyles=\"dashed\", \n",
    "        levels=levels \n",
    "    )\n",
    "    ax.clabel(contour_set)\n",
    "    plt.grid(True)\n",
    "    plt.xlabel(\"$x_1$\") \n",
    "    plt.ylabel(\"$x_2$\")\n",
    "    plt.gca().set_aspect(\"equal\")"
   ]
  },
  {
   "cell_type": "markdown",
   "metadata": {},
   "source": [
    "**Question 1:**\n",
    "\n",
    "\n",
    "Soit c $\\in \\mathbb{R}$, \n",
    "on appelle C={$(x_1,x_2) \\in \\mathbb{R}, f(x_1,x_2)=c$}.\n",
    "\n",
    " Soit $A \\in \\mathbb{R}$, comme $\\underset{||(x_1,x_2)||\\to+\\infty}{lim f(x_1,x_2)}=+\\infty$, on a \n",
    "$$\\exists (x_{10},x_{20}) \\in \\mathbb{R}^2, ||x_1,x_2||\\geq ||x_{10},x_{20}|| \\Rightarrow f(x_1,x_2) \\geq A $$\n",
    "$$\\omega=  \\{ (x_1,x_2) \\in \\mathbb{R}^2, ||(x_1,x_2)||\\leq||x_{10},x_{20}||\\}$$ \n",
    "f continue sur $\\omega$ qui est donc un fermé. La fonction f est donc continue sur un fermé, elle y est donc bornée et atteint ses bornes, \n",
    "$$ B = \\underset{(x_1,x_2) \\in \\omega }{min (f(x_1,x_2))}$$\n",
    "Hors de ce domaine on a par définition\n",
    "$$ \\forall (x_1,x_2) \\notin \\omega, \\ |f(x_1,x_2)| > A$$\n",
    "Donc en posant $a=min(A,B)$ on a $\\forall (x_1,x_2) \\in \\mathbb{R}^2, |f(x_1,x_2)| \\geq a$ \n",
    "\n",
    "On a donc trouvé un minimum pour la fonction f.\n",
    "On fait alors une dissociation de cas en fonction de la valeur de c:\n",
    "\n",
    "* $c < a$ : il n'y a aucune solution possible\n",
    "* $c \\geq a$ : il y a au moins une solution, dans ce cas de plus comme f est continue que  C est un ensemble fermé.\n"
   ]
  },
  {
   "cell_type": "markdown",
   "metadata": {},
   "source": [
    "De même on définit les fonctions gradient, calcul de la jacobienne :"
   ]
  },
  {
   "cell_type": "markdown",
   "metadata": {},
   "source": [
    "**Question 2 :** \n",
    "\n",
    "On remarque que en projettant \n",
    "$ X_0 =\\begin{pmatrix}\n",
    "    x_1 - x_{10} \\\\\n",
    "    x_2 - x_{20} \\\\\n",
    "  \\end{pmatrix}$\n",
    "  sur un vecteur orthogonal au gradient de f en $X_0$ de norme 1\n",
    "\n",
    "$$ \\frac{1}{||\\nabla f(x_0)||}    \n",
    " \\begin{pmatrix}\n",
    "  \\partial _2f(x_1,x_2) \\\\\n",
    "  -\\partial _1f(x_1,x_2) \\\\\n",
    " \\end{pmatrix} \n",
    "$$\n",
    "Avec l'hypothèse que $||\\nabla f(x_0)|| \\ne$ 0, on obtient $p(x_1,x_2)$.  \n",
    " \n",
    " Donc $p(x_1,x_2)$ correspond à la distance de $X_0$ à la droite portée par le gradient.\n",
    "\n"
   ]
  },
  {
   "cell_type": "markdown",
   "metadata": {},
   "source": [
    " **Question 3:**\n",
    "\n",
    "On cherche à appliquer le théorème des fonctions implicites. \n",
    "On pose comme fonction \n",
    "$$\n",
    "F(x,t)= \\begin{pmatrix}\n",
    "  f(x)-c \\\\\n",
    "  p(x)-t \\\\\n",
    " \\end{pmatrix} \n",
    " $$\n",
    "On a alors\n",
    "$$ \n",
    "J_F(x)= \\begin{pmatrix}\n",
    "  \\partial _{1}f(x) & \\partial _{2}f(x) \\\\\n",
    "  \\partial _{1}p(x) & \\partial _{2}p(x) \\\\\n",
    " \\end{pmatrix} \n",
    " = \\begin{pmatrix}\n",
    "  \\partial _{1}f(x) & \\partial _{2}f(x) \\\\\n",
    "  \\frac{\\partial _{2}f(x_0)}{||\\nabla f(x_0)||} & -\\frac{\\partial _{1}f(x_0)}{||\\nabla f(x_0)||} \\\\\n",
    " \\end{pmatrix} \n",
    " $$\n",
    "\n",
    "\n",
    "$$ \n",
    "|J_F(x)| = -\\frac{\\partial_1f(x)*\\partial_1f(x_0) +\\partial_2f(x)*\\partial_2f(x_0)}{||\\nabla f(x_0)||}\n",
    "$$\n",
    "\n",
    "On se place dans un voisinage U ouvert de $x_0$ et $t_0$ tel que $|J_F(x)| \\neq 0$  \n",
    "Un tel voisinage existe car on sait que $|J_F(x_0)| \\neq 0$ et F continue.\n",
    "\n",
    "On a comme hypothèses :\n",
    "* f et p continûment différentielles, donc F continûment différentielle\n",
    "*  $J_F(x_0)$ a un déterminant non nul sur U donc elle ets inversible\n",
    "* $\\exists (x_0, t_0) \\in \\mathbb{R}^2, F(x_0,t_0) = 0$\n",
    "\n",
    "Donc en appliquant le théorème des fonctions implicites on a\n",
    "l'existence de voisinages ouverts $U_0$ et $V_0 = ]-\\epsilon:+\\epsilon[$ de $x_0$ et $t_0$ appartenant à U et une unique fontion \n",
    "$\\gamma : V_0 \\rightarrow \\mathbb{R}^2$ continûment différentiable telle que \n",
    "$\\forall t\\in V_0 \\forall x=(x_1,x_2) \\in U_0,\\ f(x,t)=0 \\ \\iff \\ (x_1,x_2)=\\gamma (t)$\n",
    "\n",
    " avec  $p(x_1,x_2)=t$\n",
    "\n"
   ]
  },
  {
   "cell_type": "markdown",
   "metadata": {},
   "source": [
    "**Question 4:**\n",
    "\n",
    "Soit t $\\in ]-\\epsilon:+\\epsilon[$ , toujours d'après le théorème des fonctions intégrables appliqué en Q3 on a la différentiel de $\\gamma$ :\n",
    "$$ \n",
    "d\\gamma(t) = -(\\partial_xF(x,t))^{-1}. \\partial_t F(x,t) \\\\\n",
    "= \\frac{1}{det(J_F(x))} * \\begin{pmatrix}\n",
    "  -\\frac{\\partial _{1}f(x_0)}{||\\nabla f(x_0)||} & -\\partial _{2}f(x) \\\\\n",
    "  -\\frac{\\partial _{2}f(x_0)}{||\\nabla f(x_0)||} & \\partial _{1}f(x) \\\\\n",
    " \\end{pmatrix} \n",
    " * \\begin{pmatrix}\n",
    "  0 \\\\\n",
    "  -1 \\\\\n",
    " \\end{pmatrix}\n",
    " \\\\\n",
    " =\\frac{1}{det((J_F(x))} * \\begin{pmatrix}\n",
    "  \\partial _{2}f(x) \\\\\n",
    "  -\\partial _{1}f(x) \\\\\n",
    " \\end{pmatrix} \n",
    " \\\\\n",
    " \\neq  \\begin{pmatrix}\n",
    "  0 \\\\\n",
    "  0 \\\\\n",
    " \\end{pmatrix}\n",
    "$$\n",
    "Donc $\\gamma$'(t) $\\neq$ 0, il fournit donc une tangente au chemin $\\gamma$.\n",
    "De plus \n",
    "$$  \n",
    "\\nabla f(\\gamma(t))= \\nabla f(x) = \\begin{pmatrix}\n",
    "  \\partial _{1}f(x) \\\\\n",
    "  \\partial _{2}f(x) \\\\\n",
    " \\end{pmatrix} \n",
    "$$\n",
    "qui est non nul par hypothèse au voisinage de $x_0$.\n",
    "On a bien que \n",
    "$$ \n",
    "\\begin{pmatrix}\n",
    "  \\partial _{2}f(x) \\\\\n",
    "  -\\partial _{1}f(x) \\\\\n",
    " \\end{pmatrix} \n",
    " *\n",
    " \\begin{pmatrix}\n",
    "  \\partial _{1}f(x) \\\\\n",
    "  \\partial _{2}f(x) \\\\\n",
    " \\end{pmatrix} \n",
    " = \\begin{pmatrix}\n",
    "0 \\\\\n",
    "  0\\\\\n",
    " \\end{pmatrix} \n",
    " $$\n",
    " Soit $\\gamma'(t)$ est bien orthogonal à $\\nabla f(\\gamma(t))$."
   ]
  },
  {
   "cell_type": "markdown",
   "metadata": {},
   "source": [
    "**Question 5:**\n",
    "\n",
    "On cherche à avoir une certaine précision pour trouver l'intersection cependant il ne faut pas déscendre en dessous de l'$\\epsilon$ machine $\\epsilon \\approx 2,2*10^{-16}$. On choisit donc  eps = $10^{-7}$ \n"
   ]
  },
  {
   "cell_type": "markdown",
   "metadata": {},
   "source": [
    "**Tache 1:**\n",
    "\n",
    "On implémente la fonction de Newton :"
   ]
  },
  {
   "cell_type": "code",
   "execution_count": 7,
   "metadata": {},
   "outputs": [],
   "source": [
    "def Newton(F, x0, y0, eps, N):\n",
    "    J_F = J(F)\n",
    "    for i in range(N):\n",
    "        X0 = np.array([x0, y0])\n",
    "        J_F_inv = np.linalg.inv(J_F(X0[0], X0[1])) # calcul de l'inverse de la jacobienne en x0, y0\n",
    "        X = X0 - np.dot(J_F_inv,F(X0[0], X0[1])) # calcul du nouveau point X =(x, y)\n",
    "        x, y = X[0], X[1]\n",
    "        if np.sqrt((x - x0)**2 + (y - y0)**2) <= eps:\n",
    "            return (x, y)\n",
    "        x0, y0 = x, y\n",
    "    else:\n",
    "        raise ValueError(f\"no convergence in {N} steps.\")\n"
   ]
  },
  {
   "cell_type": "markdown",
   "metadata": {},
   "source": [
    "**Tâche 2:**\n",
    "\n",
    "On teste avec $f_1$ :"
   ]
  },
  {
   "cell_type": "code",
   "execution_count": 8,
   "metadata": {},
   "outputs": [
    {
     "output_type": "error",
     "ename": "NameError",
     "evalue": "name 'autograd' is not defined",
     "traceback": [
      "\u001b[1;31m---------------------------------------------------------------------------\u001b[0m",
      "\u001b[1;31mNameError\u001b[0m                                 Traceback (most recent call last)",
      "\u001b[1;32m<ipython-input-8-e58ca64f8701>\u001b[0m in \u001b[0;36m<module>\u001b[1;34m\u001b[0m\n\u001b[0;32m      3\u001b[0m \u001b[1;33m\u001b[0m\u001b[0m\n\u001b[0;32m      4\u001b[0m \u001b[1;33m\u001b[0m\u001b[0m\n\u001b[1;32m----> 5\u001b[1;33m \u001b[0mX_sol\u001b[0m \u001b[1;33m=\u001b[0m \u001b[0mNewton\u001b[0m\u001b[1;33m(\u001b[0m\u001b[0mF1\u001b[0m\u001b[1;33m,\u001b[0m \u001b[1;36m0.8\u001b[0m\u001b[1;33m,\u001b[0m \u001b[1;36m0.8\u001b[0m\u001b[1;33m,\u001b[0m \u001b[1;36m0.001\u001b[0m\u001b[1;33m,\u001b[0m \u001b[1;36m100\u001b[0m\u001b[1;33m)\u001b[0m\u001b[1;33m\u001b[0m\u001b[1;33m\u001b[0m\u001b[0m\n\u001b[0m\u001b[0;32m      6\u001b[0m \u001b[0mx1\u001b[0m\u001b[1;33m,\u001b[0m \u001b[0mx2\u001b[0m \u001b[1;33m=\u001b[0m \u001b[0mX_sol\u001b[0m\u001b[1;33m[\u001b[0m\u001b[1;36m0\u001b[0m\u001b[1;33m]\u001b[0m\u001b[1;33m,\u001b[0m \u001b[0mX_sol\u001b[0m\u001b[1;33m[\u001b[0m\u001b[1;36m1\u001b[0m\u001b[1;33m]\u001b[0m\u001b[1;33m\u001b[0m\u001b[1;33m\u001b[0m\u001b[0m\n\u001b[0;32m      7\u001b[0m \u001b[0mprint\u001b[0m\u001b[1;33m(\u001b[0m\u001b[0mX_sol\u001b[0m\u001b[1;33m,\u001b[0m \u001b[0mf1\u001b[0m\u001b[1;33m(\u001b[0m\u001b[0mx1\u001b[0m\u001b[1;33m,\u001b[0m \u001b[0mx2\u001b[0m\u001b[1;33m)\u001b[0m\u001b[1;33m)\u001b[0m\u001b[1;33m\u001b[0m\u001b[1;33m\u001b[0m\u001b[0m\n",
      "\u001b[1;32m<ipython-input-7-9a59e80162b6>\u001b[0m in \u001b[0;36mNewton\u001b[1;34m(F, x0, y0, eps, N)\u001b[0m\n\u001b[0;32m      1\u001b[0m \u001b[1;32mdef\u001b[0m \u001b[0mNewton\u001b[0m\u001b[1;33m(\u001b[0m\u001b[0mF\u001b[0m\u001b[1;33m,\u001b[0m \u001b[0mx0\u001b[0m\u001b[1;33m,\u001b[0m \u001b[0my0\u001b[0m\u001b[1;33m,\u001b[0m \u001b[0meps\u001b[0m\u001b[1;33m,\u001b[0m \u001b[0mN\u001b[0m\u001b[1;33m)\u001b[0m\u001b[1;33m:\u001b[0m\u001b[1;33m\u001b[0m\u001b[1;33m\u001b[0m\u001b[0m\n\u001b[1;32m----> 2\u001b[1;33m     \u001b[0mJ_F\u001b[0m \u001b[1;33m=\u001b[0m \u001b[0mJ\u001b[0m\u001b[1;33m(\u001b[0m\u001b[0mF\u001b[0m\u001b[1;33m)\u001b[0m\u001b[1;33m\u001b[0m\u001b[1;33m\u001b[0m\u001b[0m\n\u001b[0m\u001b[0;32m      3\u001b[0m     \u001b[1;32mfor\u001b[0m \u001b[0mi\u001b[0m \u001b[1;32min\u001b[0m \u001b[0mrange\u001b[0m\u001b[1;33m(\u001b[0m\u001b[0mN\u001b[0m\u001b[1;33m)\u001b[0m\u001b[1;33m:\u001b[0m\u001b[1;33m\u001b[0m\u001b[1;33m\u001b[0m\u001b[0m\n\u001b[0;32m      4\u001b[0m         \u001b[0mX0\u001b[0m \u001b[1;33m=\u001b[0m \u001b[0mnp\u001b[0m\u001b[1;33m.\u001b[0m\u001b[0marray\u001b[0m\u001b[1;33m(\u001b[0m\u001b[1;33m[\u001b[0m\u001b[0mx0\u001b[0m\u001b[1;33m,\u001b[0m \u001b[0my0\u001b[0m\u001b[1;33m]\u001b[0m\u001b[1;33m)\u001b[0m\u001b[1;33m\u001b[0m\u001b[1;33m\u001b[0m\u001b[0m\n\u001b[0;32m      5\u001b[0m         \u001b[0mJ_F_inv\u001b[0m \u001b[1;33m=\u001b[0m \u001b[0mnp\u001b[0m\u001b[1;33m.\u001b[0m\u001b[0mlinalg\u001b[0m\u001b[1;33m.\u001b[0m\u001b[0minv\u001b[0m\u001b[1;33m(\u001b[0m\u001b[0mJ_F\u001b[0m\u001b[1;33m(\u001b[0m\u001b[0mX0\u001b[0m\u001b[1;33m[\u001b[0m\u001b[1;36m0\u001b[0m\u001b[1;33m]\u001b[0m\u001b[1;33m,\u001b[0m \u001b[0mX0\u001b[0m\u001b[1;33m[\u001b[0m\u001b[1;36m1\u001b[0m\u001b[1;33m]\u001b[0m\u001b[1;33m)\u001b[0m\u001b[1;33m)\u001b[0m \u001b[1;31m# calcul de l'inverse de la jacobienne en x0, y0\u001b[0m\u001b[1;33m\u001b[0m\u001b[1;33m\u001b[0m\u001b[0m\n",
      "\u001b[1;32m<ipython-input-4-23b765aefdff>\u001b[0m in \u001b[0;36mJ\u001b[1;34m(f)\u001b[0m\n\u001b[0;32m      5\u001b[0m     \u001b[1;32mreturn\u001b[0m \u001b[0mgrad_f\u001b[0m\u001b[1;33m\u001b[0m\u001b[1;33m\u001b[0m\u001b[0m\n\u001b[0;32m      6\u001b[0m \u001b[1;32mdef\u001b[0m \u001b[0mJ\u001b[0m\u001b[1;33m(\u001b[0m\u001b[0mf\u001b[0m\u001b[1;33m)\u001b[0m\u001b[1;33m:\u001b[0m\u001b[1;33m\u001b[0m\u001b[1;33m\u001b[0m\u001b[0m\n\u001b[1;32m----> 7\u001b[1;33m     \u001b[0mj\u001b[0m \u001b[1;33m=\u001b[0m \u001b[0mautograd\u001b[0m\u001b[1;33m.\u001b[0m\u001b[0mjacobian\u001b[0m\u001b[1;33m\u001b[0m\u001b[1;33m\u001b[0m\u001b[0m\n\u001b[0m\u001b[0;32m      8\u001b[0m     \u001b[1;32mdef\u001b[0m \u001b[0mJ_f\u001b[0m\u001b[1;33m(\u001b[0m\u001b[0mx\u001b[0m\u001b[1;33m,\u001b[0m \u001b[0my\u001b[0m\u001b[1;33m)\u001b[0m\u001b[1;33m:\u001b[0m\u001b[1;33m\u001b[0m\u001b[1;33m\u001b[0m\u001b[0m\n\u001b[0;32m      9\u001b[0m         \u001b[1;32mreturn\u001b[0m \u001b[0mnp\u001b[0m\u001b[1;33m.\u001b[0m\u001b[0marray\u001b[0m\u001b[1;33m(\u001b[0m\u001b[1;33m[\u001b[0m\u001b[0mj\u001b[0m\u001b[1;33m(\u001b[0m\u001b[0mf\u001b[0m\u001b[1;33m,\u001b[0m \u001b[1;36m0\u001b[0m\u001b[1;33m)\u001b[0m\u001b[1;33m(\u001b[0m\u001b[0mx\u001b[0m\u001b[1;33m,\u001b[0m \u001b[0my\u001b[0m\u001b[1;33m)\u001b[0m\u001b[1;33m,\u001b[0m \u001b[0mj\u001b[0m\u001b[1;33m(\u001b[0m\u001b[0mf\u001b[0m\u001b[1;33m,\u001b[0m \u001b[1;36m1\u001b[0m\u001b[1;33m)\u001b[0m\u001b[1;33m(\u001b[0m\u001b[0mx\u001b[0m\u001b[1;33m,\u001b[0m \u001b[0my\u001b[0m\u001b[1;33m)\u001b[0m\u001b[1;33m]\u001b[0m\u001b[1;33m)\u001b[0m\u001b[1;33m.\u001b[0m\u001b[0mT\u001b[0m\u001b[1;33m\u001b[0m\u001b[1;33m\u001b[0m\u001b[0m\n",
      "\u001b[1;31mNameError\u001b[0m: name 'autograd' is not defined"
     ]
    }
   ],
   "source": [
    "def F1(x,y):\n",
    "    return np.array([f1(x,y)-0.8, x-y])\n",
    "\n",
    "\n",
    "#On fait varier epsilon \n",
    "plt.figure()\n",
    "\n",
    "display_contour(\n",
    "    f1, \n",
    "    x = np.linspace(-1.0, 1.0, 100), \n",
    "    y = np.linspace(-1.0, 1.0, 100), \n",
    "    levels = 10 # 10 levels, automatically selected\n",
    ")\n",
    "eps = np.linspace(0.0000001,1,10)\n",
    "for i in range(10):\n",
    "    X_sol = Newton(F1, 0.8, 0.8, eps[i], 100)\n",
    "    x1, x2 = X_sol[0], X_sol[1]\n",
    "    plt.plot(x1,x2,'bo')\n",
    "plt.title(\"Variation de epsilon\")\n",
    "plt.show()\n",
    "\n",
    "#on fait varier la contrainte supplémentaire x = 1/2*y\n",
    "def F2(x,y):\n",
    "    return np.array([f1(x,y)-0.8, x-2*y])\n",
    "\n",
    "plt.figure()\n",
    "\n",
    "display_contour(\n",
    "    f1, \n",
    "    x = np.linspace(-1.0, 1.0, 100), \n",
    "    y = np.linspace(-1.0, 1.0, 100), \n",
    "    levels = 10 # 10 levels, automatically selected\n",
    ")\n",
    "X_sol1 = Newton(F2, 0.8, 0.8, 0.001, 100)\n",
    "x11, x21 = X_sol1[0], X_sol1[1]\n",
    "x = np.linspace(-1.0, 1.0, 100)\n",
    "y = 1/2*x\n",
    "plt.plot(x,y,'b')\n",
    "plt.plot(x11,x21,'go')\n",
    "plt.title(\"Variation de la contrainte\")"
   ]
  },
  {
   "cell_type": "markdown",
   "metadata": {},
   "source": [
    "**Question 6:**\n",
    "\n",
    "On part d'un point $(x_0,y_0)$ tel que $f(x_0,y_0)=c$ et on cherche l'intersection entre le cercle de rayon $\\delta >0$ et la courbe de niveau $f(x,y)=c$.\n",
    "On a donc comme équations \n",
    "$$\n",
    "\\left\\{ \\begin{array}{ll}\n",
    "        (x_1-x_0)^2 + (y_1-y_0)^2= \\delta^2 \\\\\n",
    "        f(x_1,y_1)=c \\\\\n",
    "    \\end{array}\n",
    "    \\right.\n",
    "  $$\n",
    "  On prend donc comme fonction\n",
    "  $$\n",
    "  F\\begin{pmatrix}  x_1 \\\\    y_1 \\\\ \\end{pmatrix} = \n",
    " \\begin{pmatrix}  (x_1-x_0)^2 + (y_1-y_0)^2- \\delta^2  \\\\\n",
    "  f(x_1,y_1)-c \\\\\n",
    " \\end{pmatrix}\n",
    " $$\n",
    " et on cherche $F\\begin{pmatrix}  x_1 \\\\    y_1 \\\\ \\end{pmatrix} = \\begin{pmatrix}  0 \\\\   0 \\\\ \\end{pmatrix}$ On peut donc appliquer la méthode de Newton coder au dessus.Pour s'assurer  que le point afficher soit bien \"à droite\" quand on est en $(x_0,y_0)$ et qu'on regarde  dans la direction de $\\nabla f(x_0,y_0)$ on initialise la recherche de zero par la méthode de Newton en choisisant comme point de référence $(x_{0init},y_{0init})$ en effectuant une rotation de $-\\frac{\\pi}{2}$ à partir du gradient.\n",
    " C'est à dire :\n",
    " $$\n",
    " \\underbrace{\\begin{pmatrix}  x_{0init} \\\\    y_{0init} \\\\ \\end{pmatrix}}_{point \\ d'initialisation \\ de \\ Newton}\n",
    " =  \\underbrace{\\begin{pmatrix}  0 & -1 \\\\    1 & 0 \\\\ \\end{pmatrix} }_{matrice \\ de \\ rotation}\n",
    " * \\underbrace{(\\begin{pmatrix}  x_0 \\\\    y_0 \\\\ \\end{pmatrix} + \\frac{\\nabla f(x_0,y_0)}{||\\nabla f||}*\\delta)}_{appartenance \\ au \\ cerlce \\  de \\ rayon \\ \\delta}\n",
    " $$\n",
    " On implemente alors la fonction $level \\_{} curve$ qui répète ce procédé :"
   ]
  },
  {
   "cell_type": "markdown",
   "metadata": {},
   "source": [
    "**Tâche 3:**"
   ]
  },
  {
   "cell_type": "code",
   "execution_count": 13,
   "metadata": {},
   "outputs": [],
   "source": [
    "def level_curve(f, x0, y0, delta=0.1, N=1000, eps=10**(-7)):\n",
    "    c = f(x0, y0)\n",
    "    def level_curve_1step(f, x0, y0, delta=0.1, N=1000, eps=10**(-7)):\n",
    "            X0 = np.array([x0, y0])\n",
    "            grad_f = grad(f)\n",
    "            Grad0 = grad_f(x0, y0)\n",
    "            norme_grad_f = np.sqrt(Grad0[0]**2 + Grad0[1]**2)\n",
    "            if not(norme_grad_f): \n",
    "                raise ValueError(f\"Gradient nul au point {X0} !\")\n",
    "            M_quart_tour_droit = np.array([[0, 1],\n",
    "                                        [-1, 0]])\n",
    "            X = X0 + delta*np.dot(M_quart_tour_droit, Grad0)/norme_grad_f \n",
    "            # Calcul du point de départ de la méthode de Newton\n",
    "            def F(x,y):\n",
    "                return np.array([f(x,y)-c, (x-x0)**2 + (y-y0)**2 - delta**2])\n",
    "            X1 = Newton(F, X[0], X[1],10**(-7),100)\n",
    "            return np.array([X1[0], X[1]])\n",
    "\n",
    "    tab_points = np.empty(shape=(2, N))\n",
    "    tab_points[0][0], tab_points[1][0] = x0, y0\n",
    "\n",
    "    for i in range(N-1):\n",
    "        x, y = tab_points[0][i], tab_points[1][i]\n",
    "        x1, y1 = level_curve_1step(f, x, y)[0], level_curve_1step(f, x, y)[1]\n",
    "        tab_points[0][i+1], tab_points[1][i+1] = x1, y1 \n",
    "    return tab_points\n",
    "\n",
    "\n",
    "\n"
   ]
  },
  {
   "cell_type": "code",
   "execution_count": 20,
   "metadata": {},
   "outputs": [
    {
     "output_type": "error",
     "ename": "NameError",
     "evalue": "name 'autograd' is not defined",
     "traceback": [
      "\u001b[1;31m---------------------------------------------------------------------------\u001b[0m",
      "\u001b[1;31mNameError\u001b[0m                                 Traceback (most recent call last)",
      "\u001b[1;32m<ipython-input-20-8ceef3f2aeca>\u001b[0m in \u001b[0;36m<module>\u001b[1;34m\u001b[0m\n\u001b[0;32m      1\u001b[0m \u001b[0meps\u001b[0m \u001b[1;33m=\u001b[0m \u001b[1;36m10\u001b[0m\u001b[1;33m**\u001b[0m\u001b[1;33m(\u001b[0m\u001b[1;33m-\u001b[0m\u001b[1;36m7\u001b[0m\u001b[1;33m)\u001b[0m\u001b[1;33m\u001b[0m\u001b[1;33m\u001b[0m\u001b[0m\n\u001b[0;32m      2\u001b[0m \u001b[0mN\u001b[0m \u001b[1;33m=\u001b[0m \u001b[1;36m100\u001b[0m\u001b[1;33m\u001b[0m\u001b[1;33m\u001b[0m\u001b[0m\n\u001b[1;32m----> 3\u001b[1;33m \u001b[0mX0\u001b[0m \u001b[1;33m=\u001b[0m \u001b[0mNewton\u001b[0m\u001b[1;33m(\u001b[0m\u001b[0mF1\u001b[0m\u001b[1;33m,\u001b[0m \u001b[1;36m0.8\u001b[0m\u001b[1;33m,\u001b[0m \u001b[1;36m0.8\u001b[0m\u001b[1;33m,\u001b[0m\u001b[0meps\u001b[0m\u001b[1;33m,\u001b[0m \u001b[0mN\u001b[0m\u001b[1;33m)\u001b[0m\u001b[1;33m\u001b[0m\u001b[1;33m\u001b[0m\u001b[0m\n\u001b[0m\u001b[0;32m      4\u001b[0m \u001b[0mX1\u001b[0m \u001b[1;33m=\u001b[0m \u001b[0mnp\u001b[0m\u001b[1;33m.\u001b[0m\u001b[0marray\u001b[0m\u001b[1;33m(\u001b[0m\u001b[1;33m[\u001b[0m\u001b[1;36m0.51792427\u001b[0m\u001b[1;33m,\u001b[0m \u001b[1;36m0.37650292\u001b[0m\u001b[1;33m]\u001b[0m\u001b[1;33m)\u001b[0m\u001b[1;33m\u001b[0m\u001b[1;33m\u001b[0m\u001b[0m\n\u001b[0;32m      5\u001b[0m \u001b[0mx0\u001b[0m\u001b[1;33m,\u001b[0m \u001b[0my0\u001b[0m \u001b[1;33m=\u001b[0m \u001b[0mX0\u001b[0m\u001b[1;33m[\u001b[0m\u001b[1;36m0\u001b[0m\u001b[1;33m]\u001b[0m\u001b[1;33m,\u001b[0m \u001b[0mX0\u001b[0m\u001b[1;33m[\u001b[0m\u001b[1;36m1\u001b[0m\u001b[1;33m]\u001b[0m\u001b[1;33m\u001b[0m\u001b[1;33m\u001b[0m\u001b[0m\n",
      "\u001b[1;32m<ipython-input-7-9a59e80162b6>\u001b[0m in \u001b[0;36mNewton\u001b[1;34m(F, x0, y0, eps, N)\u001b[0m\n\u001b[0;32m      1\u001b[0m \u001b[1;32mdef\u001b[0m \u001b[0mNewton\u001b[0m\u001b[1;33m(\u001b[0m\u001b[0mF\u001b[0m\u001b[1;33m,\u001b[0m \u001b[0mx0\u001b[0m\u001b[1;33m,\u001b[0m \u001b[0my0\u001b[0m\u001b[1;33m,\u001b[0m \u001b[0meps\u001b[0m\u001b[1;33m,\u001b[0m \u001b[0mN\u001b[0m\u001b[1;33m)\u001b[0m\u001b[1;33m:\u001b[0m\u001b[1;33m\u001b[0m\u001b[1;33m\u001b[0m\u001b[0m\n\u001b[1;32m----> 2\u001b[1;33m     \u001b[0mJ_F\u001b[0m \u001b[1;33m=\u001b[0m \u001b[0mJ\u001b[0m\u001b[1;33m(\u001b[0m\u001b[0mF\u001b[0m\u001b[1;33m)\u001b[0m\u001b[1;33m\u001b[0m\u001b[1;33m\u001b[0m\u001b[0m\n\u001b[0m\u001b[0;32m      3\u001b[0m     \u001b[1;32mfor\u001b[0m \u001b[0mi\u001b[0m \u001b[1;32min\u001b[0m \u001b[0mrange\u001b[0m\u001b[1;33m(\u001b[0m\u001b[0mN\u001b[0m\u001b[1;33m)\u001b[0m\u001b[1;33m:\u001b[0m\u001b[1;33m\u001b[0m\u001b[1;33m\u001b[0m\u001b[0m\n\u001b[0;32m      4\u001b[0m         \u001b[0mX0\u001b[0m \u001b[1;33m=\u001b[0m \u001b[0mnp\u001b[0m\u001b[1;33m.\u001b[0m\u001b[0marray\u001b[0m\u001b[1;33m(\u001b[0m\u001b[1;33m[\u001b[0m\u001b[0mx0\u001b[0m\u001b[1;33m,\u001b[0m \u001b[0my0\u001b[0m\u001b[1;33m]\u001b[0m\u001b[1;33m)\u001b[0m\u001b[1;33m\u001b[0m\u001b[1;33m\u001b[0m\u001b[0m\n\u001b[0;32m      5\u001b[0m         \u001b[0mJ_F_inv\u001b[0m \u001b[1;33m=\u001b[0m \u001b[0mnp\u001b[0m\u001b[1;33m.\u001b[0m\u001b[0mlinalg\u001b[0m\u001b[1;33m.\u001b[0m\u001b[0minv\u001b[0m\u001b[1;33m(\u001b[0m\u001b[0mJ_F\u001b[0m\u001b[1;33m(\u001b[0m\u001b[0mX0\u001b[0m\u001b[1;33m[\u001b[0m\u001b[1;36m0\u001b[0m\u001b[1;33m]\u001b[0m\u001b[1;33m,\u001b[0m \u001b[0mX0\u001b[0m\u001b[1;33m[\u001b[0m\u001b[1;36m1\u001b[0m\u001b[1;33m]\u001b[0m\u001b[1;33m)\u001b[0m\u001b[1;33m)\u001b[0m \u001b[1;31m# calcul de l'inverse de la jacobienne en x0, y0\u001b[0m\u001b[1;33m\u001b[0m\u001b[1;33m\u001b[0m\u001b[0m\n",
      "\u001b[1;32m<ipython-input-4-23b765aefdff>\u001b[0m in \u001b[0;36mJ\u001b[1;34m(f)\u001b[0m\n\u001b[0;32m      5\u001b[0m     \u001b[1;32mreturn\u001b[0m \u001b[0mgrad_f\u001b[0m\u001b[1;33m\u001b[0m\u001b[1;33m\u001b[0m\u001b[0m\n\u001b[0;32m      6\u001b[0m \u001b[1;32mdef\u001b[0m \u001b[0mJ\u001b[0m\u001b[1;33m(\u001b[0m\u001b[0mf\u001b[0m\u001b[1;33m)\u001b[0m\u001b[1;33m:\u001b[0m\u001b[1;33m\u001b[0m\u001b[1;33m\u001b[0m\u001b[0m\n\u001b[1;32m----> 7\u001b[1;33m     \u001b[0mj\u001b[0m \u001b[1;33m=\u001b[0m \u001b[0mautograd\u001b[0m\u001b[1;33m.\u001b[0m\u001b[0mjacobian\u001b[0m\u001b[1;33m\u001b[0m\u001b[1;33m\u001b[0m\u001b[0m\n\u001b[0m\u001b[0;32m      8\u001b[0m     \u001b[1;32mdef\u001b[0m \u001b[0mJ_f\u001b[0m\u001b[1;33m(\u001b[0m\u001b[0mx\u001b[0m\u001b[1;33m,\u001b[0m \u001b[0my\u001b[0m\u001b[1;33m)\u001b[0m\u001b[1;33m:\u001b[0m\u001b[1;33m\u001b[0m\u001b[1;33m\u001b[0m\u001b[0m\n\u001b[0;32m      9\u001b[0m         \u001b[1;32mreturn\u001b[0m \u001b[0mnp\u001b[0m\u001b[1;33m.\u001b[0m\u001b[0marray\u001b[0m\u001b[1;33m(\u001b[0m\u001b[1;33m[\u001b[0m\u001b[0mj\u001b[0m\u001b[1;33m(\u001b[0m\u001b[0mf\u001b[0m\u001b[1;33m,\u001b[0m \u001b[1;36m0\u001b[0m\u001b[1;33m)\u001b[0m\u001b[1;33m(\u001b[0m\u001b[0mx\u001b[0m\u001b[1;33m,\u001b[0m \u001b[0my\u001b[0m\u001b[1;33m)\u001b[0m\u001b[1;33m,\u001b[0m \u001b[0mj\u001b[0m\u001b[1;33m(\u001b[0m\u001b[0mf\u001b[0m\u001b[1;33m,\u001b[0m \u001b[1;36m1\u001b[0m\u001b[1;33m)\u001b[0m\u001b[1;33m(\u001b[0m\u001b[0mx\u001b[0m\u001b[1;33m,\u001b[0m \u001b[0my\u001b[0m\u001b[1;33m)\u001b[0m\u001b[1;33m]\u001b[0m\u001b[1;33m)\u001b[0m\u001b[1;33m.\u001b[0m\u001b[0mT\u001b[0m\u001b[1;33m\u001b[0m\u001b[1;33m\u001b[0m\u001b[0m\n",
      "\u001b[1;31mNameError\u001b[0m: name 'autograd' is not defined"
     ]
    }
   ],
   "source": [
    "eps = 10**(-7)\n",
    "N = 100\n",
    "X0 = Newton(F1, 0.8, 0.8,eps, N)\n",
    "X1 = np.array([0.51792427, 0.37650292])\n",
    "x0, y0 = X0[0], X0[1]\n",
    "x1, y1 = X1[0], X1[1]\n",
    "\n",
    "Tab_sol = level_curve(f1, x0, y0, delta=0.01, N=500, eps=0.001)\n",
    "display_contour(\n",
    "    f1, \n",
    "    x=np.linspace(-1.0, 1.0, 100), \n",
    "    y=np.linspace(-1.0, 1.0, 100), \n",
    "    levels=10 # 10 levels, automatically selected\n",
    ")\n",
    "\n",
    "plt.plot(Tab_sol[0][0], Tab_sol[1][0], 'bo')\n",
    "for i in range(1, len (Tab_sol[0])):\n",
    "    plt.plot(Tab_sol[0][i], Tab_sol[1][i], 'ro')\n"
   ]
  },
  {
   "source": [
    "On reconnaît bien la ligne de niveau de $f_1$\n",
    "\n",
    "On teste avec la fonction $f_2$ :"
   ],
   "cell_type": "markdown",
   "metadata": {}
  },
  {
   "cell_type": "code",
   "execution_count": null,
   "metadata": {},
   "outputs": [],
   "source": [
    "eps = 10**(-7)\n",
    "N = 100\n",
    "X0 = Newton(F2, 0.8, 0.8,eps, N)\n",
    "X1 = np.array([0.51792427, 0.37650292])\n",
    "x0, y0 = X0[0], X0[1]\n",
    "x1, y1 = X1[0], X1[1]\n",
    "\n",
    "Tab_sol = level_curve(f2, x0, y0, delta=0.01, N=500, eps=0.001)\n",
    "\n",
    "display_contour(\n",
    "    f2, \n",
    "    x=np.linspace(-1.0, 3.0, 100), \n",
    "    y=np.linspace(-2.0, 2.0, 100), \n",
    "    levels=[2**i for i in range(-3, 8)] # levels: [0.125, 0.25, ..., 64, 128]\n",
    ")\n",
    "\n",
    "plt.plot(Tab_sol[0][0], Tab_sol[1][0], 'bo')\n",
    "\n",
    "for i in range(1, len (Tab_sol[0])):\n",
    "    plt.plot(Tab_sol[0][i], Tab_sol[1][i], 'ro')"
   ]
  },
  {
   "source": [
    "De même on reconnaît la courbe de niveau de $f_2$."
   ],
   "cell_type": "markdown",
   "metadata": {}
  },
  {
   "cell_type": "markdown",
   "metadata": {},
   "source": [
    "**Question 7 et Tâche 4:**\n",
    "\n",
    "On cherche d'abord à écrire une fonction qui teste si deux segments on une intersection : \n",
    "Pour cela, on paramètre nos deux segments $u_{AB} \\in [0;1]$ et  $u_{CD} \\in [0;1]$. On veut $A+u_{AB}*(B-A)= C+u_{CD}*(D-C)$\n",
    "\n",
    "\n",
    "Comme on est dans un plan on obtient deux équations:\n",
    "$$\n",
    "\\left\\{ \\begin{array}{ll}\n",
    "        x_{AB} = x_A + u_{AB}*(x_B-x_A) \\\\\n",
    "        y_{AB} = y_A + u_{AB}*(y_B-y_A) \\\\\n",
    "    \\end{array}\n",
    "    \\right.\n",
    "  $$\n",
    "  Soit en résolvant ce système :\n",
    "  $$\n",
    "  \\left\\{ \\begin{array}{ll}\n",
    "        u_{AB} = \\frac{(x_D-x_C)(y_C-y_A)+(x_A-x_C)(y_D-y_C)}{(x_D-x_C)(y_B-y_A)-(x_B-x_A)(y_D-y_c))} \\\\\n",
    "        u_{CD} = \\frac{(x_B-x_A)(y_C-y_A)-(x_C-x_A)(y_B-y_A)}{(x_D-x_C)(y_B-y_A)-(x_B-x_A)(y_D-y_c))} \\\\\n",
    "    \\end{array}\n",
    "    \\right.\n",
    "$$\n",
    "Si le dénominateur s'annule, les deux segments sont parrallèles, donc ne se croisent jamais.\n",
    "\n"
   ]
  },
  {
   "cell_type": "code",
   "execution_count": null,
   "metadata": {},
   "outputs": [],
   "source": [
    "\n",
    "def on_segment(p, q, r):\n",
    "    if r[0] <= max(p[0], q[0]) and r[0] >= min(p[0], q[0]) and r[1] <= max(p[1], q[1]) and r[1] >= min(p[1], q[1]):\n",
    "        return True\n",
    "    return False\n",
    "\n",
    "\n",
    "def orientation(p, q, r):\n",
    "    val = ((q[1] - p[1]) * (r[0] - q[0])) - ((q[0] - p[0]) * (r[1] - q[1]))\n",
    "    if val == 0 : \n",
    "        return 0\n",
    "    elif val > 0 :\n",
    "        return 1  \n",
    "    else :\n",
    "        return -1\n",
    "\n",
    "def intersects(seg1, seg2):\n",
    "    p1, q1 = seg1[0],seg1[1]\n",
    "    p2, q2 = seg2[0],seg2[1]\n",
    "    o1 = orientation(p1, q1, p2)\n",
    "    o2 = orientation(p1, q1, q2)\n",
    "    o3 = orientation(p2, q2, p1)\n",
    "    o4 = orientation(p2, q2, q1)\n",
    "    if o1 != o2 and o3 != o4:\n",
    "        return True\n",
    "    if o1 == 0 and on_segment(p1, q1, p2) : \n",
    "        return True\n",
    "    if o2 == 0 and on_segment(p1, q1, q2) : \n",
    "        return True\n",
    "    if o3 == 0 and on_segment(p2, q2, p1) : \n",
    "        return True\n",
    "    if o4 == 0 and on_segment(p2, q2, q1) : \n",
    "        return True\n",
    "    return False\n"
   ]
  },
  {
   "source": [
    "On observe les courbes de niveau de la fonction Rosenbrock, on remarque que les courbes de niveaux se croisent, ces courbes auto-intersectantes sont assez rares car ...\n",
    "\n",
    "On peut donc tester l'intersection du dernier segment avec juste le premier segment.\n",
    "On écrit alors une nouvelle fonction $level\\_curve$ :\n"
   ],
   "cell_type": "markdown",
   "metadata": {}
  },
  {
   "cell_type": "code",
   "execution_count": null,
   "metadata": {},
   "outputs": [],
   "source": [
    "def level_curve2(f, x0, y0, delta=0.1, N=1000, eps=eps):\n",
    "    X = np.empty(shape = (2, N))\n",
    "    X[0][0] = x0\n",
    "    X[1][0] = y0\n",
    "    P0 = [x0,y0]\n",
    "    c = f(x0, y0)\n",
    "    stop = False\n",
    "    i = 0\n",
    "    def g(x1, y1):          # on veut une fonction de R^2 dans R^2\n",
    "        return np.array([f(x1, y1) - c, (x1 - x0)**2 + (y1 - y0)**2 - delta**2])\n",
    "    while stop == False and i <(N-1):\n",
    "        gradF = grad(f)(x0, y0)\n",
    "        grad_rot = np.array([gradF[1], -gradF[0]]) # rotation de 90° vers la droite du gradient\n",
    "        point_int = grad_rot * delta/np.linalg.norm(grad_rot) \n",
    "        point_depart = np.array([point_int[0]+x0, point_int[1]+y0])  # point de départ pour Newton\n",
    "        tab = Newton(g, point_depart[0], point_depart[1], eps, N)\n",
    "        x0, y0 = tab[0], tab[1]\n",
    "        X[0][i+1] = x0\n",
    "        X[1][i+1] = y0\n",
    "        if i == 0 :\n",
    "            P1 = [x0,y0]\n",
    "            S0 = [P0,P1]\n",
    "            S = S0         # on enregistre le 1 er segment\n",
    "        else :\n",
    "            Pint = S[1]\n",
    "            P = [x0,y0]\n",
    "            S = [Pint,P] \n",
    "            if intersection_segment(S0,S) :\n",
    "                stop = True\n",
    "                return X , stop     # on arrête le programme si il y a une intersection\n",
    "        i +=1\n",
    "    return X, stop"
   ]
  },
  {
   "source": [
    "**Tâche 5:**\n",
    "\n",
    " On teste avec $f_1$ :\n"
   ],
   "cell_type": "markdown",
   "metadata": {}
  },
  {
   "cell_type": "code",
   "execution_count": null,
   "metadata": {},
   "outputs": [],
   "source": [
    "eps = 10**(-7)\n",
    "N = 500\n",
    "X0 = Newton(F1, 0.8, 0.8,eps, N)\n",
    "X1 = np.array([0.51792427, 0.37650292])\n",
    "x0, y0 = X0[0], X0[1]\n",
    "x1, y1 = X1[0], X1[1]\n",
    "\n",
    "Tab_sol, arret = level_curve2(f1, x0, y0, delta=0.01, N=750, eps=10**(-7))\n",
    "\n",
    "print('''On a arrêté l'algorithme:''' ,arret)    # True = on a intersecté le premier segment\n",
    "plt.figure()\n",
    "plt.title('En intersectant')\n",
    "for i in range(1, len (Tab_sol[0])):\n",
    "    plt.plot(Tab_sol[0][i], Tab_sol[1][i], 'ro')\n",
    "plt.show()\n",
    "\n",
    "Tab_sol, arret = level_curve2(f1, x0, y0, delta=0.01, N=300, eps=10**(-7))\n",
    "\n",
    "print('''On a arrêté l'algorithme:''' ,arret)    # True = on a intersecté le premier segment\n",
    "plt.figure()\n",
    "plt.title('Sans intersecter')\n",
    "for i in range(1, len (Tab_sol[0])):\n",
    "    plt.plot(Tab_sol[0][i], Tab_sol[1][i], 'ro')\n",
    "plt.show()"
   ]
  },
  {
   "source": [
    "On remarque que pour $f_1$ au dela de ... points on intersecte le 1er segment.\n",
    "\n",
    "On test avec $f_2$:\n"
   ],
   "cell_type": "markdown",
   "metadata": {}
  },
  {
   "cell_type": "code",
   "execution_count": null,
   "metadata": {},
   "outputs": [],
   "source": [
    "eps = 10**(-7)\n",
    "N = 500\n",
    "X0 = Newton(F2, 0.5, 0.5,eps, N)\n",
    "X1 = np.array([0.51792427, 0.37650292])\n",
    "x0, y0 = X0[0], X0[1]\n",
    "x1, y1 = X1[0], X1[1]\n",
    "Tab_sol, arret = level_curve2(f2, x0, y0, delta=0.01, N=750, eps=10**(-7))\n",
    "\n",
    "print('''On a arrêté l'algorithme:''' ,arret)    # True = on a intersecté le premier segment\n",
    "plt.figure()\n",
    "plt.title('En intersectant')\n",
    "for i in range(1, len (Tab_sol[0])):\n",
    "    plt.plot(Tab_sol[0][i], Tab_sol[1][i], 'ro')\n",
    "plt.show()\n",
    "\n",
    "Tab_sol, arret = level_curve2(f2, x0, y0, delta=0.01, N=300, eps=10**(-7))\n",
    "\n",
    "print('''On a arrêté l'algorithme:''' ,arret)    # True = on a intersecté le premier segment\n",
    "plt.figure()\n",
    "plt.title('Sans intersecter')\n",
    "for i in range(1, len (Tab_sol[0])):\n",
    "    plt.plot(Tab_sol[0][i], Tab_sol[1][i], 'ro')\n",
    "plt.show()"
   ]
  },
  {
   "cell_type": "code",
   "execution_count": null,
   "metadata": {},
   "outputs": [],
   "source": [
    "On remarque que on intersecte pas forcement dès le premier tour, par exemple ici on comprend que un tour correspond environ à 400 points, or l'algorithme ne s'arrete que pour 800. "
   ]
  },
  {
   "source": [
    "**Question 8:**\n",
    "On a  $\\gamma'(0) = \\lambda * u1, \\ \\lambda>0$ et  $\\gamma'(1) = \\mu * u1, \\ \\mu>0$\n",
    "En évaluant en t = 0 : \n",
    "$$\n",
    "\\left\\{ \\begin{array}{ll}\n",
    "        a = P_{1x} \\\\\n",
    "        d = P_{1y}   \\\\\n",
    "    \\end{array}\n",
    "    \\right.\n",
    "  $$\n",
    "De même on trouve : \n",
    "$$\n",
    "\\left\\{ \\begin{array}{ll}\n",
    "        b=\\lambda*u_{1x} \\\\\n",
    "        e=\\lambda*u_{1y}  \\\\\n",
    "    \\end{array}\n",
    "    \\right.\n",
    "  $$\n",
    "On doit avoir le système :\n",
    "$$\n",
    "\\left\\{ \\begin{array}{ll}\n",
    "        2c+b = \\mu*u_{2x} \\\\\n",
    "        a + b +c=P_{2x}   \\\\\n",
    "    \\end{array}\n",
    "    \\right.\n",
    "  $$\n",
    "  Soit :\n",
    "  $$\n",
    "\\left\\{ \\begin{array}{ll}\n",
    "        c = \\frac{1}{2}*(\\mu u_{2x}-\\lambda u_{1x}) \\\\\n",
    "        f = \\frac{1}{2}*(\\mu u_{2y}-\\lambda u_{1y}) \\\\\n",
    "    \\end{array}\n",
    "    \\right.\n",
    "  $$\n",
    "  La deuxième ligne du système nous donne comme condition :$P_{1x} = \\frac{1}{2} *(u_{1x} - u_{2x})$\n",
    "  $$\n",
    "\\left\\{ \\begin{array}{ll}\n",
    "        P_{1x} = \\frac{1}{2} *(u_{1x} - u_{2x}) \\\\\n",
    "       P_{1y} = \\frac{1}{2} *(u_{1y} - u_{2y})  \\\\\n",
    "    \\end{array}\n",
    "    \\right.\n",
    "  $$"
   ],
   "cell_type": "markdown",
   "metadata": {}
  },
  {
   "cell_type": "markdown",
   "metadata": {},
   "source": [
    " **Tâche 6:**\n",
    " "
   ]
  },
  {
   "cell_type": "code",
   "execution_count": 16,
   "metadata": {},
   "outputs": [],
   "source": [
    "def gamma(t, P1, P2, u1, u2):\n",
    "    if not(0 <= t <= 1):\n",
    "        return \"t doit être compris entre 0 et 1\"\n",
    "    vect_12 = np.array([P2[0]-P1[0],P2[1]-P1[1]])\n",
    "    if (2*vect_12[0] != (u1 + u2)[0]) and (2*vect_12[1] != (u1 + u2)[1]):\n",
    "        print(\"pas d'interpolation : on trace le segment\")\n",
    "        X = P1 + t * vect_12\n",
    "        return X\n",
    "    else:\n",
    "        print(\"On peut faire l'interpolation\")\n",
    "        X = P1 + t * u1 + t * t * (vect_12-u1) \n",
    "        return X\n"
   ]
  },
  {
   "source": [
    "On vectorise la fonction :\n"
   ],
   "cell_type": "markdown",
   "metadata": {}
  },
  {
   "cell_type": "code",
   "execution_count": 17,
   "metadata": {},
   "outputs": [],
   "source": [
    "gamma_v = np.vectorize(gamma)\n"
   ]
  },
  {
   "source": [
    "On teste sur un exemple :"
   ],
   "cell_type": "markdown",
   "metadata": {}
  },
  {
   "cell_type": "code",
   "execution_count": 19,
   "metadata": {},
   "outputs": [
    {
     "output_type": "error",
     "ename": "IndexError",
     "evalue": "invalid index to scalar variable.",
     "traceback": [
      "\u001b[1;31m---------------------------------------------------------------------------\u001b[0m",
      "\u001b[1;31mIndexError\u001b[0m                                Traceback (most recent call last)",
      "\u001b[1;32m<ipython-input-19-7458550ce01f>\u001b[0m in \u001b[0;36m<module>\u001b[1;34m\u001b[0m\n\u001b[0;32m      5\u001b[0m \u001b[0mu1\u001b[0m \u001b[1;33m=\u001b[0m \u001b[1;33m[\u001b[0m\u001b[1;36m1\u001b[0m\u001b[1;33m,\u001b[0m\u001b[1;36m0\u001b[0m\u001b[1;33m]\u001b[0m\u001b[1;33m\u001b[0m\u001b[1;33m\u001b[0m\u001b[0m\n\u001b[0;32m      6\u001b[0m \u001b[0mu2\u001b[0m \u001b[1;33m=\u001b[0m \u001b[1;33m[\u001b[0m\u001b[1;36m1\u001b[0m\u001b[1;33m,\u001b[0m\u001b[1;36m2\u001b[0m\u001b[1;33m]\u001b[0m\u001b[1;33m\u001b[0m\u001b[1;33m\u001b[0m\u001b[0m\n\u001b[1;32m----> 7\u001b[1;33m \u001b[0mprint\u001b[0m\u001b[1;33m(\u001b[0m\u001b[0mgamma_v\u001b[0m\u001b[1;33m(\u001b[0m\u001b[0mt\u001b[0m\u001b[1;33m,\u001b[0m\u001b[0mP1\u001b[0m\u001b[1;33m,\u001b[0m\u001b[0mP2\u001b[0m\u001b[1;33m,\u001b[0m\u001b[0mu1\u001b[0m\u001b[1;33m,\u001b[0m\u001b[0mu2\u001b[0m\u001b[1;33m)\u001b[0m\u001b[1;33m)\u001b[0m\u001b[1;33m\u001b[0m\u001b[1;33m\u001b[0m\u001b[0m\n\u001b[0m",
      "\u001b[1;32m~\\miniconda3\\envs\\Etude_TP\\lib\\site-packages\\numpy\\lib\\function_base.py\u001b[0m in \u001b[0;36m__call__\u001b[1;34m(self, *args, **kwargs)\u001b[0m\n\u001b[0;32m   2106\u001b[0m             \u001b[0mvargs\u001b[0m\u001b[1;33m.\u001b[0m\u001b[0mextend\u001b[0m\u001b[1;33m(\u001b[0m\u001b[1;33m[\u001b[0m\u001b[0mkwargs\u001b[0m\u001b[1;33m[\u001b[0m\u001b[0m_n\u001b[0m\u001b[1;33m]\u001b[0m \u001b[1;32mfor\u001b[0m \u001b[0m_n\u001b[0m \u001b[1;32min\u001b[0m \u001b[0mnames\u001b[0m\u001b[1;33m]\u001b[0m\u001b[1;33m)\u001b[0m\u001b[1;33m\u001b[0m\u001b[1;33m\u001b[0m\u001b[0m\n\u001b[0;32m   2107\u001b[0m \u001b[1;33m\u001b[0m\u001b[0m\n\u001b[1;32m-> 2108\u001b[1;33m         \u001b[1;32mreturn\u001b[0m \u001b[0mself\u001b[0m\u001b[1;33m.\u001b[0m\u001b[0m_vectorize_call\u001b[0m\u001b[1;33m(\u001b[0m\u001b[0mfunc\u001b[0m\u001b[1;33m=\u001b[0m\u001b[0mfunc\u001b[0m\u001b[1;33m,\u001b[0m \u001b[0margs\u001b[0m\u001b[1;33m=\u001b[0m\u001b[0mvargs\u001b[0m\u001b[1;33m)\u001b[0m\u001b[1;33m\u001b[0m\u001b[1;33m\u001b[0m\u001b[0m\n\u001b[0m\u001b[0;32m   2109\u001b[0m \u001b[1;33m\u001b[0m\u001b[0m\n\u001b[0;32m   2110\u001b[0m     \u001b[1;32mdef\u001b[0m \u001b[0m_get_ufunc_and_otypes\u001b[0m\u001b[1;33m(\u001b[0m\u001b[0mself\u001b[0m\u001b[1;33m,\u001b[0m \u001b[0mfunc\u001b[0m\u001b[1;33m,\u001b[0m \u001b[0margs\u001b[0m\u001b[1;33m)\u001b[0m\u001b[1;33m:\u001b[0m\u001b[1;33m\u001b[0m\u001b[1;33m\u001b[0m\u001b[0m\n",
      "\u001b[1;32m~\\miniconda3\\envs\\Etude_TP\\lib\\site-packages\\numpy\\lib\\function_base.py\u001b[0m in \u001b[0;36m_vectorize_call\u001b[1;34m(self, func, args)\u001b[0m\n\u001b[0;32m   2184\u001b[0m             \u001b[0mres\u001b[0m \u001b[1;33m=\u001b[0m \u001b[0mfunc\u001b[0m\u001b[1;33m(\u001b[0m\u001b[1;33m)\u001b[0m\u001b[1;33m\u001b[0m\u001b[1;33m\u001b[0m\u001b[0m\n\u001b[0;32m   2185\u001b[0m         \u001b[1;32melse\u001b[0m\u001b[1;33m:\u001b[0m\u001b[1;33m\u001b[0m\u001b[1;33m\u001b[0m\u001b[0m\n\u001b[1;32m-> 2186\u001b[1;33m             \u001b[0mufunc\u001b[0m\u001b[1;33m,\u001b[0m \u001b[0motypes\u001b[0m \u001b[1;33m=\u001b[0m \u001b[0mself\u001b[0m\u001b[1;33m.\u001b[0m\u001b[0m_get_ufunc_and_otypes\u001b[0m\u001b[1;33m(\u001b[0m\u001b[0mfunc\u001b[0m\u001b[1;33m=\u001b[0m\u001b[0mfunc\u001b[0m\u001b[1;33m,\u001b[0m \u001b[0margs\u001b[0m\u001b[1;33m=\u001b[0m\u001b[0margs\u001b[0m\u001b[1;33m)\u001b[0m\u001b[1;33m\u001b[0m\u001b[1;33m\u001b[0m\u001b[0m\n\u001b[0m\u001b[0;32m   2187\u001b[0m \u001b[1;33m\u001b[0m\u001b[0m\n\u001b[0;32m   2188\u001b[0m             \u001b[1;31m# Convert args to object arrays first\u001b[0m\u001b[1;33m\u001b[0m\u001b[1;33m\u001b[0m\u001b[1;33m\u001b[0m\u001b[0m\n",
      "\u001b[1;32m~\\miniconda3\\envs\\Etude_TP\\lib\\site-packages\\numpy\\lib\\function_base.py\u001b[0m in \u001b[0;36m_get_ufunc_and_otypes\u001b[1;34m(self, func, args)\u001b[0m\n\u001b[0;32m   2144\u001b[0m \u001b[1;33m\u001b[0m\u001b[0m\n\u001b[0;32m   2145\u001b[0m             \u001b[0minputs\u001b[0m \u001b[1;33m=\u001b[0m \u001b[1;33m[\u001b[0m\u001b[0marg\u001b[0m\u001b[1;33m.\u001b[0m\u001b[0mflat\u001b[0m\u001b[1;33m[\u001b[0m\u001b[1;36m0\u001b[0m\u001b[1;33m]\u001b[0m \u001b[1;32mfor\u001b[0m \u001b[0marg\u001b[0m \u001b[1;32min\u001b[0m \u001b[0margs\u001b[0m\u001b[1;33m]\u001b[0m\u001b[1;33m\u001b[0m\u001b[1;33m\u001b[0m\u001b[0m\n\u001b[1;32m-> 2146\u001b[1;33m             \u001b[0moutputs\u001b[0m \u001b[1;33m=\u001b[0m \u001b[0mfunc\u001b[0m\u001b[1;33m(\u001b[0m\u001b[1;33m*\u001b[0m\u001b[0minputs\u001b[0m\u001b[1;33m)\u001b[0m\u001b[1;33m\u001b[0m\u001b[1;33m\u001b[0m\u001b[0m\n\u001b[0m\u001b[0;32m   2147\u001b[0m \u001b[1;33m\u001b[0m\u001b[0m\n\u001b[0;32m   2148\u001b[0m             \u001b[1;31m# Performance note: profiling indicates that -- for simple\u001b[0m\u001b[1;33m\u001b[0m\u001b[1;33m\u001b[0m\u001b[1;33m\u001b[0m\u001b[0m\n",
      "\u001b[1;32m<ipython-input-16-03bc5f208995>\u001b[0m in \u001b[0;36mgamma\u001b[1;34m(t, P1, P2, u1, u2)\u001b[0m\n\u001b[0;32m      2\u001b[0m     \u001b[1;32mif\u001b[0m \u001b[1;32mnot\u001b[0m\u001b[1;33m(\u001b[0m\u001b[1;36m0\u001b[0m \u001b[1;33m<=\u001b[0m \u001b[0mt\u001b[0m \u001b[1;33m<=\u001b[0m \u001b[1;36m1\u001b[0m\u001b[1;33m)\u001b[0m\u001b[1;33m:\u001b[0m\u001b[1;33m\u001b[0m\u001b[1;33m\u001b[0m\u001b[0m\n\u001b[0;32m      3\u001b[0m         \u001b[1;32mreturn\u001b[0m \u001b[1;34m\"t doit être compris entre 0 et 1\"\u001b[0m\u001b[1;33m\u001b[0m\u001b[1;33m\u001b[0m\u001b[0m\n\u001b[1;32m----> 4\u001b[1;33m     \u001b[0mvect_12\u001b[0m \u001b[1;33m=\u001b[0m \u001b[0mnp\u001b[0m\u001b[1;33m.\u001b[0m\u001b[0marray\u001b[0m\u001b[1;33m(\u001b[0m\u001b[1;33m[\u001b[0m\u001b[0mP2\u001b[0m\u001b[1;33m[\u001b[0m\u001b[1;36m0\u001b[0m\u001b[1;33m]\u001b[0m\u001b[1;33m-\u001b[0m\u001b[0mP1\u001b[0m\u001b[1;33m[\u001b[0m\u001b[1;36m0\u001b[0m\u001b[1;33m]\u001b[0m\u001b[1;33m,\u001b[0m\u001b[0mP2\u001b[0m\u001b[1;33m[\u001b[0m\u001b[1;36m1\u001b[0m\u001b[1;33m]\u001b[0m\u001b[1;33m-\u001b[0m\u001b[0mP1\u001b[0m\u001b[1;33m[\u001b[0m\u001b[1;36m1\u001b[0m\u001b[1;33m]\u001b[0m\u001b[1;33m]\u001b[0m\u001b[1;33m)\u001b[0m\u001b[1;33m\u001b[0m\u001b[1;33m\u001b[0m\u001b[0m\n\u001b[0m\u001b[0;32m      5\u001b[0m     \u001b[1;32mif\u001b[0m \u001b[1;33m(\u001b[0m\u001b[1;36m2\u001b[0m\u001b[1;33m*\u001b[0m\u001b[0mvect_12\u001b[0m\u001b[1;33m[\u001b[0m\u001b[1;36m0\u001b[0m\u001b[1;33m]\u001b[0m \u001b[1;33m!=\u001b[0m \u001b[1;33m(\u001b[0m\u001b[0mu1\u001b[0m \u001b[1;33m+\u001b[0m \u001b[0mu2\u001b[0m\u001b[1;33m)\u001b[0m\u001b[1;33m[\u001b[0m\u001b[1;36m0\u001b[0m\u001b[1;33m]\u001b[0m\u001b[1;33m)\u001b[0m \u001b[1;32mand\u001b[0m \u001b[1;33m(\u001b[0m\u001b[1;36m2\u001b[0m\u001b[1;33m*\u001b[0m\u001b[0mvect_12\u001b[0m\u001b[1;33m[\u001b[0m\u001b[1;36m1\u001b[0m\u001b[1;33m]\u001b[0m \u001b[1;33m!=\u001b[0m \u001b[1;33m(\u001b[0m\u001b[0mu1\u001b[0m \u001b[1;33m+\u001b[0m \u001b[0mu2\u001b[0m\u001b[1;33m)\u001b[0m\u001b[1;33m[\u001b[0m\u001b[1;36m1\u001b[0m\u001b[1;33m]\u001b[0m\u001b[1;33m)\u001b[0m\u001b[1;33m:\u001b[0m\u001b[1;33m\u001b[0m\u001b[1;33m\u001b[0m\u001b[0m\n\u001b[0;32m      6\u001b[0m         \u001b[0mprint\u001b[0m\u001b[1;33m(\u001b[0m\u001b[1;34m\"pas d'interpolation : on trace le segment\"\u001b[0m\u001b[1;33m)\u001b[0m\u001b[1;33m\u001b[0m\u001b[1;33m\u001b[0m\u001b[0m\n",
      "\u001b[1;31mIndexError\u001b[0m: invalid index to scalar variable."
     ]
    }
   ],
   "source": [
    "P1 = [0,1]\n",
    "P2 = [1,2]\n",
    "t = 0,5\n",
    "#tangentes\n",
    "u1 = [1,0]\n",
    "u2 = [1,2]\n",
    "print(gamma_v(t,P1,P2,u1,u2))"
   ]
  },
  {
   "cell_type": "markdown",
   "metadata": {},
   "source": [
    "**Tâche 7:**"
   ]
  },
  {
   "cell_type": "code",
   "execution_count": null,
   "metadata": {},
   "outputs": [],
   "source": [
    "def level_curve2()"
   ]
  },
  {
   "cell_type": "markdown",
   "metadata": {},
   "source": [
    "**Tâhce 8:**\n",
    "\n",
    "\n",
    "On vérifie graphiquement sur les exemples de références :"
   ]
  },
  {
   "cell_type": "code",
   "execution_count": null,
   "metadata": {},
   "outputs": [],
   "source": []
  }
 ],
 "metadata": {
  "kernelspec": {
   "display_name": "Python 3",
   "language": "python",
   "name": "python3"
  },
  "language_info": {
   "codemirror_mode": {
    "name": "ipython",
    "version": 3
   },
   "file_extension": ".py",
   "mimetype": "text/x-python",
   "name": "python",
   "nbconvert_exporter": "python",
   "pygments_lexer": "ipython3",
   "version": "3.8.5-final"
  }
 },
 "nbformat": 4,
 "nbformat_minor": 2
}