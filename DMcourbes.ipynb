{
 "metadata": {
  "language_info": {
   "codemirror_mode": {
    "name": "ipython",
    "version": 3
   },
   "file_extension": ".py",
   "mimetype": "text/x-python",
   "name": "python",
   "nbconvert_exporter": "python",
   "pygments_lexer": "ipython3",
   "version": 3
  },
  "orig_nbformat": 2
 },
 "nbformat": 4,
 "nbformat_minor": 2,
 "cells": [
  {
   "cell_type": "code",
   "execution_count": null,
   "metadata": {},
   "outputs": [],
   "source": [
    "# Courbes de niveau\n",
    "*Jean Pierre Louis COMMUNAL et Viviane Lesbre*\n"
   ]
  },
  {
   "source": [
    "On importe les modules nécessaires à l'exercice :"
   ],
   "cell_type": "markdown",
   "metadata": {}
  },
  {
   "cell_type": "code",
   "execution_count": null,
   "metadata": {},
   "outputs": [],
   "source": [
    "import autograd.numpy as np\n",
    "import matplotlib.pyplot as plt\n",
    "import autograd"
   ]
  },
  {
   "cell_type": "code",
   "execution_count": null,
   "metadata": {},
   "outputs": [],
   "source": [
    "**Question 1:**\n",
    "\n",
    "\n",
    "Soit c $\\in \\mathbb{R}$, \n",
    "on appelle C={$(x_1,x_2) \\in \\mathbb{R}, f(x_1,x_2)=c$}.\n",
    "\n",
    " Soit $A \\in \\mathbb{R}$, comme $\\underset{||(x_1,x_2)||\\to+\\infty}{lim f(x_1,x_2)}=+\\infty$, on a \n",
    "$$\\exists (x_{10},x_{20}) \\in \\mathbb{R}^2, ||x_1,x_2||\\geq ||x_{10},x_{20}|| \\Rightarrow f(x_1,x_2) \\geq A $$\n",
    "$$\\omega=  \\{ (x_1,x_2) \\in \\mathbb{R}^2, ||(x_1,x_2)||\\leq||x_{10},x_{20}||\\}$$ \n",
    "f continue sur $\\omega$ qui est donc un fermé. La fonction f est donc continue sur un fermé, elle y est donc bornée et atteint ses bornes, \n",
    "$$ B = \\underset{(x_1,x_2) \\in \\omega }{min (f(x_1,x_2))}$$\n",
    "Hors de ce domaine on a par définition\n",
    "$$ \\forall (x_1,x_2) \\notin \\omega, \\ |f(x_1,x_2)| > A$$\n",
    "Donc en posant $a=min(A,B)$ on a $\\forall (x_1,x_2) \\in \\mathbb{R}^2, |f(x_1,x_2)| \\geq a$ \n",
    "\n",
    "On a donc trouvé un minimum pour la fonction f.\n",
    "On fait alors une dissociation de cas en fonction de la valeur de c:\n",
    "\n",
    "* $c < a$ : il n'y a aucune solution possible\n",
    "* $c \\geq a$ : il y a au moins une solution, dans ce cas de plus comme f est continue que  C est un ensemble fermé.\n"
   ]
  },
  {
   "cell_type": "code",
   "execution_count": null,
   "metadata": {},
   "outputs": [],
   "source": [
    "**Question 2 :** \n",
    "\n",
    "On remarque que en projettant \n",
    "$$ X_0 =\\begin{pmatrix}\n",
    "    x_1 - x_{10} \\\\\n",
    "    x_2 - x_{20} \\\\\n",
    "  \\end{pmatrix} $$\n",
    "  sur un vecteur orthogonal au gradient de f en $X_0$ de norme 1\n",
    "\n",
    "$$ \\frac{1}{||\\nabla f(x_0)||}    \n",
    " \\begin{pmatrix}\n",
    "  \\partial _2f(x_1,x_2) \\\\\n",
    "  -\\partial _1f(x_1,x_2) \\\\\n",
    " \\end{pmatrix}\n",
    "$$\n",
    " avec l'hypothèse que $||\\nabla f(x_0)||$ $\\ne$ 0, on obtient $p(x_1,x_2)$.  \n",
    " Donc $p(x_1,x_2)$ correspond à la distance de $X_0$ à la droite portée par le gradient.\n",
    "\n"
   ]
  },
  {
   "cell_type": "code",
   "execution_count": null,
   "metadata": {},
   "outputs": [],
   "source": [
    " **Question 3:**\n",
    "\n",
    "On cherche à appliquer le théorème des fonctions implicites. \n",
    "On pose comme fonction \n",
    "$$F(x,t)= \\begin{pmatrix}\n",
    "  f(x)-c \\\\\n",
    "  p(x)-t \\\\\n",
    " \\end{pmatrix}\n",
    "$$\n",
    "On a alors\n",
    "$$ J_F(x)= \\begin{pmatrix}\n",
    "  \\partial _{1}f(x) & \\partial _{2}f(x) \\\\\n",
    "  \\partial _{1}p(x) & \\partial _{2}p(x) \\\\\n",
    " \\end{pmatrix} \n",
    " = \\begin{pmatrix}\n",
    "  \\partial _{1}f(x) & \\partial _{2}f(x) \\\\\n",
    "  \\frac{\\partial _{2}f(x_0)}{||\\nabla f(x_0)||} & -\\frac{\\partial _{1}f(x_0)}{||\\nabla f(x_0)||} \\\\\n",
    " \\end{pmatrix} \n",
    " $$\n",
    "\n",
    "\n",
    "$$ |J_F(x)| = -\\frac{\\partial_1f(x)*\\partial_1f(x_0) +\\partial_2f(x)*\\partial_2f(x_0)}{||\\nabla f(x_0)||}\n",
    "$$\n",
    "\n",
    "On se place dans un voisinage U ouvert de $x_0$ et $t_0$ tel que $|J_F(x)| \\neq 0$  \n",
    "Un tel voisinage existe car on sait que $|J_F(x_0)| \\neq 0$ et F continue.\n",
    "\n",
    "On a comme hypothèses :\n",
    "* f et p continûment différentielles, donc F continûment différentielle\n",
    "*  $J_F(x_0)$ a un déterminant non nul sur U donc elle ets inversible\n",
    "* $\\exist (x_0, t_0) \\in \\mathbb{R}^2, F(x_0,t_0) = 0$\n",
    "\n",
    "Donc en appliquant le théorème des fonctions implicites on a\n",
    "l'existence de voisinages ouverts $U_0$ et $V_0 = ]-\\epsilon:+\\epsilon[$ de $x_0$ et $t_0$ appartenant à U et une unique fontion \n",
    "$\\gamma : V_0 \\rightarrow \\mathbb{R}^2$ continûment différentiable telle que \n",
    "$\\forall t\\in V_0 \\forall x=(x_1,x_2) \\in U_0,\\ f(x,t)=0 \\ \\iff \\ (x_1,x_2)=\\gamma (t)$\n",
    "\n",
    " avec  $p(x_1,x_2)=t$\n",
    "\n"
   ]
  }
 ]
}