{
 "cells": [
  {
   "cell_type": "markdown",
   "metadata": {},
   "source": [
    "# DM probabilités\n",
    "**COMMUNAL Jean-Pierre Louis, LESBRE Viviane**\n",
    "\n",
    "On fait les imports nécessaires et on copie le code de l'année dernière :"
   ]
  },
  {
   "cell_type": "code",
   "execution_count": null,
   "metadata": {},
   "outputs": [],
   "source": [
    "import numpy as np\n",
    "import matplotlib.pyplot as plt\n",
    "\n",
    "#Discrétisation\n",
    "A=0\n",
    "B=500\n",
    "N=101 #Nombre de points de discrétisation\n",
    "Delta = (B-A)/(N-1)\n",
    "discretization_indexes = np.arange(N)\n",
    "discretization = discretization_indexes*Delta\n",
    "#Paramètres du modèle\n",
    "\n",
    "mu=-5\n",
    "a = 50\n",
    "sigma2 = 12\n",
    "\n",
    "#Données\n",
    "\n",
    "observation_indexes = [0,20,40,60,80,100]\n",
    "depth = np.array([0,-4,-12.8,-1,-6.5,0])\n",
    "\n",
    "#Indices des composantes correspondant aux observations et aux componsantes non observées\n",
    "\n",
    "unknown_indexes=list(set(discretization_indexes)-set(observation_indexes))\n",
    "\n",
    "#Fonction C\n",
    "\n",
    "def Covexp(dist,rangeval,sigmaval):\n",
    "    return sigmaval * np.exp(-dist/rangeval)\n",
    "\n",
    "distmat=abs(np.subtract.outer(discretization,discretization))\n",
    "\n",
    "Sigma=Covexp(distmat,a,sigma2)\n",
    "\n",
    "SigmaObs = Sigma[observation_indexes,:][:,observation_indexes]\n",
    "SigmaObsUnknown = Sigma[observation_indexes,:][:,unknown_indexes]\n",
    "SigmaUnknown = Sigma[unknown_indexes,:][:,unknown_indexes]\n",
    "\n",
    "invSigma = np.linalg.inv(SigmaObs) \n",
    "Ec= mu+np.matmul(np.transpose(SigmaObsUnknown),np.matmul(np.linalg.inv(SigmaObs),depth-mu))\n",
    "allval1 = np.zeros(N)\n",
    "allval1[unknown_indexes]=Ec\n",
    "allval1[observation_indexes]=depth\n",
    "'''plt.plot(discretization,allval1)\n",
    "plt.plot(discretization[observation_indexes], depth, 'ro')\n",
    "plt.show()'''\n",
    "\n",
    "SigmaCond = SigmaUnknown - np.matmul(np.transpose(SigmaObsUnknown),np.matmul(np.linalg.inv(SigmaObs),SigmaObsUnknown))\n",
    "allval2 = np.zeros(N)\n",
    "allval2[unknown_indexes]=np.diag(SigmaCond)\n",
    "'''plt.plot(discretization,allval2)\n",
    "plt.plot(discretization[observation_indexes], np.zeros(np.shape(observation_indexes)[0]), 'ro')\n",
    "plt.show()'''\n",
    "\n",
    "Cholesky = np.linalg.cholesky(SigmaCond)\n",
    "x = np.random.normal(0,1,np.shape(unknown_indexes)[0])\n",
    "simu = Ec + np.matmul(Cholesky,x)\n",
    "allval3 = np.zeros(N)\n",
    "allval3[unknown_indexes]=simu\n",
    "allval3[observation_indexes]=depth\n",
    "'''plt.plot(discretization,allval3)\n",
    "plt.plot(discretization,allval1)\n",
    "plt.plot(discretization[observation_indexes], depth, 'ro')'''\n",
    "#plt.show()\n",
    "\n",
    "def length(z,delta):\n",
    "    return sum(np.sqrt(Delta**2+(z[1:N]-z[0:-1])**2))\n",
    "\n",
    "K=100000\n",
    "result = np.zeros(K)\n",
    "for i in range(K):\n",
    "    x=np.random.normal(0,1,np.shape(unknown_indexes)[0])\n",
    "    allval3[unknown_indexes]=Ec + np.matmul(Cholesky,x)\n",
    "    result[i]=length(allval3,Delta)\n",
    "\n",
    "sum(result)/K\n",
    "length(allval1,Delta)\n",
    "\n",
    "indice_simu = 1+np.arange(K)\n",
    "'''plt.plot(indice_simu,np.cumsum(result)/indice_simu)\n",
    "plt.show()'''\n",
    "\n",
    "#plt.hist(result,50,density=True)\n",
    "#plt.show()\n",
    "\n",
    "Ln = sum(result)/K\n",
    "sigman = np.std(result)\n",
    "[Ln - sigman*1.96,Ln + sigman*1.96]\n",
    "\n",
    "np.quantile(result,[0.025,0.975])\n",
    "\n",
    "np.mean(result>525)"
   ]
  },
  {
   "cell_type": "markdown",
   "metadata": {},
   "source": [
    "# Question 1 :\n",
    "On code un algorithme de rejet"
   ]
  },
  {
   "cell_type": "code",
   "execution_count": 113,
   "metadata": {},
   "outputs": [
    {
     "data": {
      "image/png": "[encoded data removed]",
      "text/plain": [
       "<Figure size 432x288 with 1 Axes>"
      ]
     },
     "metadata": {
      "needs_background": "light"
     },
     "output_type": "display_data"
    }
   ],
   "source": [
    "Ec1= mu+np.matmul(np.transpose(SigmaObsUnknown),np.matmul(np.linalg.inv(SigmaObs),depth-mu))\n",
    "\n",
    "def rejet(Ec):\n",
    "    \n",
    "    positif = True\n",
    "    Cholesky = np.linalg.cholesky(SigmaCond)\n",
    "    x = np.random.normal(0,1,np.shape(unknown_indexes)[0])\n",
    "    simu = Ec1 + np.matmul(Cholesky,x)\n",
    "    \n",
    "    while positif :\n",
    "        simu_neg = np.array(simu<0)\n",
    "        \n",
    "        if  simu_neg.all():\n",
    "            positif = False\n",
    "        else :\n",
    "            x = np.random.normal(0,1,np.shape(unknown_indexes)[0])\n",
    "            simu = Ec1 + np.matmul(Cholesky,x)\n",
    "            \n",
    "    allval5 = np.zeros(N)\n",
    "    allval5[unknown_indexes]=simu\n",
    "    allval5[observation_indexes]=depth\n",
    "        \n",
    "    return allval5\n",
    "\n",
    "allval5 = rejet(Ec1)\n",
    "plt.plot(discretization,allval5)\n",
    "plt.plot(discretization,allval1)\n",
    "plt.plot(discretization[observation_indexes], depth, 'ro')\n",
    "\n",
    "plt.title(\"profil de profondeur\");"
   ]
  },
  {
   "cell_type": "markdown",
   "metadata": {},
   "source": [
    "# Question 2:\n",
    "On cherche donc à calculer la longeur moyenne de cable pour ce nouveau profil:"
   ]
  },
  {
   "cell_type": "code",
   "execution_count": 99,
   "metadata": {},
   "outputs": [
    {
     "data": {
      "text/plain": [
       "522.4250111968523"
      ]
     },
     "execution_count": 99,
     "metadata": {},
     "output_type": "execute_result"
    }
   ],
   "source": [
    "K=1000\n",
    "result_new = np.zeros(K)\n",
    "for i in range(K):\n",
    "    allval5 = rejet(Ec1)#à chaque itération on choisi un tracé avec la méthode du rejet\n",
    "    result_new[i]=length(allval5,Delta)\n",
    "\n",
    "result.mean()"
   ]
  },
  {
   "cell_type": "markdown",
   "metadata": {},
   "source": [
    "On trace l'histogramme:"
   ]
  },
  {
   "cell_type": "code",
   "execution_count": 100,
   "metadata": {},
   "outputs": [
    {
     "data": {
      "image/png": "[encoded data removed]",
      "text/plain": [
       "<Figure size 432x288 with 1 Axes>"
      ]
     },
     "metadata": {
      "needs_background": "light"
     },
     "output_type": "display_data"
    }
   ],
   "source": [
    "plt.subplots()\n",
    "axe1 = plt.hist(result_new,50,density=True, label ='valeurs négatives')\n",
    "axe2 = plt.hist(result,50,density = True, label = 'valeur originales')\n",
    "plt.legend()\n",
    "plt.show()"
   ]
  },
  {
   "cell_type": "code",
   "execution_count": 101,
   "metadata": {},
   "outputs": [
    {
     "name": "stdout",
     "output_type": "stream",
     "text": [
      "[517.11452581 528.40779236]\n",
      "[516.66299451 528.17128821]\n"
     ]
    }
   ],
   "source": [
    "#Vieilles données\n",
    "Ln = sum(result)/K\n",
    "sigman = np.std(result)\n",
    "[Ln - sigman*1.96,Ln + sigman*1.96]\n",
    "\n",
    "print(np.quantile(result,[0.025,0.975]))\n",
    "\n",
    "#Nouvelles données\n",
    "Ln = sum(result_new)/K\n",
    "sigman = np.std(result_new)\n",
    "[Ln - sigman*1.96,Ln + sigman*1.96]\n",
    "\n",
    "print(np.quantile(result_new,[0.025,0.975]))"
   ]
  },
  {
   "cell_type": "code",
   "execution_count": 102,
   "metadata": {},
   "outputs": [
    {
     "name": "stdout",
     "output_type": "stream",
     "text": [
      "0.18277\n",
      "0.136\n"
     ]
    }
   ],
   "source": [
    "print(np.mean(result>525))\n",
    "print(np.mean(result_new>525))"
   ]
  },
  {
   "cell_type": "markdown",
   "metadata": {},
   "source": [
    "On calcul le taux de rejet sur 10000 essais"
   ]
  },
  {
   "cell_type": "code",
   "execution_count": 74,
   "metadata": {},
   "outputs": [
    {
     "data": {
      "text/plain": [
       "0.8733414641117233"
      ]
     },
     "execution_count": 74,
     "metadata": {},
     "output_type": "execute_result"
    }
   ],
   "source": [
    "def taux_rejet():\n",
    "    \n",
    "    rejet = 1\n",
    "    positif = True\n",
    "    Cholesky = np.linalg.cholesky(SigmaCond)\n",
    "    x = np.random.normal(0,1,np.shape(unknown_indexes)[0])\n",
    "    simu = Ec + np.matmul(Cholesky,x)\n",
    "    \n",
    "    while positif :\n",
    "        simu_neg = np.array(simu<0)\n",
    "        if  simu_neg.all():\n",
    "            positif = False\n",
    "        else :\n",
    "            x = np.random.normal(0,1,np.shape(unknown_indexes)[0])\n",
    "            simu = Ec + np.matmul(Cholesky,x)\n",
    "            rejet +=1\n",
    "    return 1/rejet\n",
    "\n",
    "rejet = 0\n",
    "for k in range (10000):\n",
    "    rejet += taux_rejet()\n",
    "1-rejet/10000"
   ]
  },
  {
   "cell_type": "markdown",
   "metadata": {},
   "source": [
    "Le taux de rejet est donc d'environ 87%."
   ]
  },
  {
   "cell_type": "markdown",
   "metadata": {},
   "source": [
    "# Question 4 :\n",
    "On a \n",
    "$$ \n",
    "f_{W,X}(x,w)=f_{X|W=w](x) * f_{"
   ]
  },
  {
   "cell_type": "markdown",
   "metadata": {},
   "source": [
    "# Question 5:\n",
    "On identifie avec la question 4 les différents termes pui on identifie :\n",
    "    - $f_{Z_{UKN}|\\mu =\\mu *,Z_{obs}=z_{obs}}$ matrice normale\n",
    "    - l'autre : vecteur gaussien à densité"
   ]
  },
  {
   "cell_type": "markdown",
   "metadata": {},
   "source": [
    "# Question 7:\n",
    "On applique la technique de Box-Muller pour simuler une variable aléatoire gaussienne."
   ]
  },
  {
   "cell_type": "code",
   "execution_count": 106,
   "metadata": {},
   "outputs": [
    {
     "data": {
      "image/png": "[encoded data removed]",
      "text/plain": [
       "<Figure size 432x288 with 1 Axes>"
      ]
     },
     "metadata": {
      "needs_background": "light"
     },
     "output_type": "display_data"
    }
   ],
   "source": [
    "n = 100000 #nombre de points\n",
    "mu_hat = -4.29\n",
    "sigma_hat = 1.54\n",
    "\n",
    "def simu2(n):\n",
    "    W = np.empty(n)\n",
    "    i = 0\n",
    "    while i < n:\n",
    "        U = np.random.rand(1)\n",
    "        V = np.random.rand(1)\n",
    "        X = mu_hat + np.sqrt(-2*np.log(U))*np.cos(2*np.pi*V)*sigma_hat\n",
    "        if X < 0:\n",
    "            W[i] = X\n",
    "            i += 1\n",
    "    return W\n",
    "    \n",
    "\n",
    "plt.hist(simu2(n),50, density = True)\n",
    "plt.show()"
   ]
  },
  {
   "cell_type": "markdown",
   "metadata": {},
   "source": [
    "# Question 8:"
   ]
  },
  {
   "cell_type": "code",
   "execution_count": 116,
   "metadata": {},
   "outputs": [
    {
     "data": {
      "image/png": "[encoded data removed]",
      "text/plain": [
       "<Figure size 432x288 with 1 Axes>"
      ]
     },
     "metadata": {
      "needs_background": "light"
     },
     "output_type": "display_data"
    }
   ],
   "source": [
    "def simu_couple():\n",
    "    mu = simu2(1)\n",
    "    Ec2 = mu + np.matmul(np.transpose(SigmaObsUnknown),np.matmul(np.linalg.inv(SigmaObs),depth - mu))\n",
    "    simu = rejet(Ec2)\n",
    "    return  simu, mu\n",
    "\n",
    "simu, mu = simu_couple()\n",
    "plt.plot(discretization,simu)\n",
    "plt.plot(discretization,allval1)\n",
    "plt.plot(discretization[observation_indexes], depth, 'ro')\n",
    "\n",
    "plt.title(\"profil de profondeur\");\n"
   ]
  },
  {
   "cell_type": "markdown",
   "metadata": {},
   "source": [
    "# Question 9:\n"
   ]
  },
  {
   "cell_type": "code",
   "execution_count": 122,
   "metadata": {},
   "outputs": [
    {
     "data": {
      "text/plain": [
       "521.8150562008716"
      ]
     },
     "execution_count": 122,
     "metadata": {},
     "output_type": "execute_result"
    }
   ],
   "source": [
    "K=10000\n",
    "result_new2 = np.zeros(K)\n",
    "for i in range(K):\n",
    "    allval5 = rejet(Ec1)#à chaque itération on choisi un tracé avec la méthode du rejet\n",
    "    result_new2[i]=length(allval5,Delta)\n",
    "\n",
    "\n",
    "result_new2.mean()"
   ]
  },
  {
   "cell_type": "markdown",
   "metadata": {},
   "source": [
    "Pour le convergence:"
   ]
  },
  {
   "cell_type": "code",
   "execution_count": 123,
   "metadata": {},
   "outputs": [
    {
     "data": {
      "image/png": "[encoded data removed]",
      "text/plain": [
       "<Figure size 432x288 with 1 Axes>"
      ]
     },
     "metadata": {
      "needs_background": "light"
     },
     "output_type": "display_data"
    }
   ],
   "source": [
    "indice_simu = 1+np.arange(K)\n",
    "plt.plot(indice_simu,np.cumsum(result_new2)/indice_simu)\n",
    "plt.show()"
   ]
  },
  {
   "cell_type": "code",
   "execution_count": 124,
   "metadata": {},
   "outputs": [
    {
     "data": {
      "image/png": "[encoded data removed]",
      "text/plain": [
       "<Figure size 432x288 with 1 Axes>"
      ]
     },
     "metadata": {
      "needs_background": "light"
     },
     "output_type": "display_data"
    }
   ],
   "source": [
    "plt.subplots()\n",
    "axe1 = plt.hist(result_new2,50,density=True, label ='valeurs négatives')\n",
    "axe2 = plt.hist(result,50,density = True, label = 'valeur originales')\n",
    "plt.legend()\n",
    "plt.show()"
   ]
  },
  {
   "cell_type": "code",
   "execution_count": 125,
   "metadata": {},
   "outputs": [
    {
     "name": "stdout",
     "output_type": "stream",
     "text": [
      "[517.11452581 528.40779236]\n",
      "[516.62715655 527.64963736]\n"
     ]
    }
   ],
   "source": [
    "#Vieilles données\n",
    "Ln = sum(result)/K\n",
    "sigman = np.std(result)\n",
    "[Ln - sigman*1.96,Ln + sigman*1.96]\n",
    "\n",
    "print(np.quantile(result,[0.025,0.975]))\n",
    "\n",
    "#Nouvelles données\n",
    "Ln = sum(result_new2)/K\n",
    "sigman = np.std(result_new2)\n",
    "[Ln - sigman*1.96,Ln + sigman*1.96]\n",
    "\n",
    "print(np.quantile(result_new2,[0.025,0.975]))"
   ]
  },
  {
   "cell_type": "code",
   "execution_count": 126,
   "metadata": {},
   "outputs": [
    {
     "name": "stdout",
     "output_type": "stream",
     "text": [
      "0.18277\n",
      "0.1338\n"
     ]
    }
   ],
   "source": [
    "print(np.mean(result>525))\n",
    "print(np.mean(result_new2>525))"
   ]
  },
  {
   "cell_type": "markdown",
   "metadata": {},
   "source": [
    "# Question 10 :\n"
   ]
  },
  {
   "cell_type": "code",
   "execution_count": null,
   "metadata": {},
   "outputs": [],
   "source": []
  }
 ],
 "metadata": {
  "kernelspec": {
   "display_name": "Python 3",
   "language": "python",
   "name": "python3"
  },
  "language_info": {
   "codemirror_mode": {
    "name": "ipython",
    "version": 3
   },
   "file_extension": ".py",
   "mimetype": "text/x-python",
   "name": "python",
   "nbconvert_exporter": "python",
   "pygments_lexer": "ipython3",
   "version": "3.8.3"
  }
 },
 "nbformat": 4,
 "nbformat_minor": 2
}
